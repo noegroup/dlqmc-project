{
 "cells": [
  {
   "cell_type": "code",
   "execution_count": null,
   "metadata": {},
   "outputs": [],
   "source": [
    "import numpy as np\n",
    "import pandas as pd\n",
    "import h5py"
   ]
  },
  {
   "cell_type": "code",
   "execution_count": null,
   "metadata": {},
   "outputs": [],
   "source": [
    "def to_corr(x, ref):\n",
    "    return (ref[0] - x) / (ref[0] - ref[1])\n",
    "\n",
    "def to_corr_error(x, ref):\n",
    "    return x / (ref[0] - ref[1])\n",
    "\n",
    "def decimal(x,i=0):\n",
    "    return (str(np.round(abs(x)*10**i, 0))[0],i) if abs(x)*10**i > 1 else decimal(x, i+1)\n",
    "\n",
    "def get_ref(references,ref,system,ansatz):\n",
    "    data = []\n",
    "    if (ref,system) in references.index:\n",
    "        ref_i = references.loc(0)[ref].loc(0)[system].loc(0)\n",
    "        if not np.isnan(ref_i[f\"{ansatz} energy\"]):\n",
    "            energy = 100*to_corr(ref_i[f\"{ansatz} energy\"],refs_exact.loc(0)[system])\n",
    "            error = 100*to_corr_error(ref_i[f\"{ansatz} error\"],refs_exact.loc(0)[system])\n",
    "            return (energy,error,1)  if 'SD' in ansatz else (energy,error,ref_i[f\"{ansatz} nCSF\"]) \n",
    "\n",
    "def conv_to_string(x, ref, csf):\n",
    "    string = f\"{x[0]:1.{decimal(x[1])[1]}f}({decimal(x[1])[0]})\"\n",
    "    if x[2]>1:\n",
    "            string += f\"& {int(x[2])}\" + ( r'.\\text{D}' if not csf else  r'.\\textsc{csf}' )\n",
    "    return string"
   ]
  },
  {
   "cell_type": "code",
   "execution_count": null,
   "metadata": {},
   "outputs": [],
   "source": [
    "refs_qmc = pd.read_csv('../data/extern/small-systems-vmc.csv').set_index(['reference','system'])\n",
    "refs_exact =  pd.read_csv('../data/extern/small-systems-exact.csv').set_index(['system'])\n",
    "systems = ['H2', 'Be', 'B', 'LiH', 'Li2']\n",
    "ansatzs =  ['SD-SJ','MD-SJ','SD-SJBF','MD-SJBF']\n",
    "reference_labels = {'Brown':'[Br]', 'Casalengo':'[Ca]', 'Morales':'[Mo]', 'Rios':'[LR]', 'Seth':'[Se]', 'Toulouse':'[TU]'}\n",
    "with h5py.File(f'../data/raw/data_pub_small_systems.h5', 'a') as f:\n",
    "    data_paulinet={system:{ansatz:(100*to_corr(f[system][ansatz].attrs['energy'][0],refs_exact.loc(0)[system]),100*to_corr_error(f[system][ansatz].attrs['energy'][1],refs_exact.loc(0)[system]),1 if 'SD' in ansatz else 6)for ansatz in ansatzs} for system in systems}"
   ]
  },
  {
   "cell_type": "code",
   "execution_count": null,
   "metadata": {},
   "outputs": [],
   "source": [
    "body=[]\n",
    "for i,system in enumerate(systems):\n",
    "    body.append(\"&\".join([system.replace('2','$_2$')] + ['PauliNet'] + [conv_to_string(data_paulinet[system][ansatz],refs_exact.loc(0)[system],False) for ansatz in ansatzs]) + r'\\\\')\n",
    "    for ref in reference_labels.keys():\n",
    "        row = []\n",
    "        add = False\n",
    "        for ansatz in ansatzs:\n",
    "            if get_ref(refs_qmc,ref,system,ansatz):\n",
    "                row += [conv_to_string(get_ref(refs_qmc,ref,system,ansatz),refs_exact.loc(0)[system],True)]\n",
    "                add = True\n",
    "            else:\n",
    "                row += [r'\\skpdsh1'] if ansatz in ['SD-SJ','SD-SJBF'] else [r'\\skpdsh2']\n",
    "        if add:\n",
    "            body.append(f\"&\".join([''] + [f\"{reference_labels[ref]}\"] + row)+r'\\\\')\n",
    "    body.append(r\"\\midrule[0.1pt]\")\n",
    "body = \"\\n\".join(body)"
   ]
  },
  {
   "cell_type": "code",
   "execution_count": null,
   "metadata": {},
   "outputs": [],
   "source": [
    "head = [r\"\\begin{table*}[thb!]\",\n",
    "        r\"\\centering\",\n",
    "        r\"\\caption{\\textbf{Variational correlation energy (\\%) of five test systems obtained with four types of trial wave functions.}}\\label{tab:energies}\",\n",
    "        r\"\\newcommand\\skpdsh[1]{\\multicolumn{#1}c{--}}\",\n",
    "        r\"\\newcommand\\mclm[2]{\\multicolumn{#1}c{#2}}\",\n",
    "        r\"\\newcommand\\csf{\\textsc{csf}}\",\n",
    "        r\"\\begin{tabular}{ccD..{3.6}D..{3.5}D.\\,{2.5}D..{3.6}D..{3.4}D.\\,{2.3}}\",\n",
    "        r\"\\toprule\",\n",
    "        r\"& &\\mclm3{Slater--Jastrow}&\\mclm3{Slater--Jastrow with backflow}\\\\\",\n",
    "        r\"\\cmidrule(lr){3-5}\\cmidrule(lr){6-8}&ref.$^a$ & \\mclm1{SD$^b$} & \\mclm2{MD$^c$} & \\mclm1{SD} & \\mclm2{MD}\\\\\",\n",
    "        r\"\\midrule\"]\n",
    "head = \"\\n\".join(head)"
   ]
  },
  {
   "cell_type": "code",
   "execution_count": null,
   "metadata": {},
   "outputs": [],
   "source": [
    "tail = [r\"\\bottomrule\",\n",
    "        r\"\\end{tabular}\",        \n",
    "        r\"\\footnotesize\",\n",
    "        r\"\\begin{minipage}{0.65\\linewidth},\",\n",
    "        r\"$^a$The parenthesized letters encode the following references: [Ca]--\\citet{CasalegnoJCP03}, [TU]--\\citet{ToulouseJCP08}, [Mo]--\\citet{MoralesJCTC12}, [LR]--\\citet{LopezRiosPRE06}, [Br]--\\citet{BrownJCP07}, [Se]--\\citet{SethJCP11}.\",\n",
    "        r\"$^b$Single-determinant ansatz.\",\n",
    "        r\"$^c$Multi-determinant ansatz. ``D'' denotes a determinant, ``\\textsc{csf}'' denotes a configuration state function.\",\n",
    "        r\"\\end{minipage}\",\n",
    "        r\"\\end{table*}\"]\n",
    "tail = \"\\n\".join(tail)"
   ]
  },
  {
   "cell_type": "code",
   "execution_count": null,
   "metadata": {},
   "outputs": [],
   "source": [
    "print(head)\n",
    "print(body)\n",
    "print(tail)"
   ]
  }
 ],
 "metadata": {
  "kernelspec": {
   "display_name": "deepqmc",
   "language": "python",
   "name": "deepqmc"
  },
  "language_info": {
   "codemirror_mode": {
    "name": "ipython",
    "version": 3
   },
   "file_extension": ".py",
   "mimetype": "text/x-python",
   "name": "python",
   "nbconvert_exporter": "python",
   "pygments_lexer": "ipython3",
   "version": "3.7.1"
  }
 },
 "nbformat": 4,
 "nbformat_minor": 2
}
