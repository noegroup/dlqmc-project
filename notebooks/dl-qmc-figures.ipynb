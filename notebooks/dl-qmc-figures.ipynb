{
 "cells": [
  {
   "cell_type": "code",
   "execution_count": null,
   "metadata": {},
   "outputs": [],
   "source": [
    "from itertools import product\n",
    "\n",
    "import h5py\n",
    "import matplotlib as mpl\n",
    "import matplotlib.pyplot as plt\n",
    "import numpy as np\n",
    "import pandas as pd\n",
    "import torch\n",
    "from matplotlib.patches import Rectangle\n",
    "from uncertainties import ufloat\n",
    "from uncertainties import unumpy as unp\n",
    "\n",
    "import dlqmc.mplext\n",
    "from deepqmc.ewm import EWMAverage\n",
    "from deepqmc.wf.paulinet import DistanceBasis"
   ]
  },
  {
   "cell_type": "code",
   "execution_count": null,
   "metadata": {},
   "outputs": [],
   "source": [
    "# needs to be in a separate cell, see https://github.com/ipython/ipython/issues/11098\n",
    "mpl.rcParams['figure.dpi'] = 150\n",
    "mpl.rc('font', family='serif', serif='STIXGeneral', size=9)\n",
    "mpl.rc('mathtext', fontset='stix')\n",
    "mpl.rc('axes', titlesize=9)\n",
    "COLORS = plt.rcParams['axes.prop_cycle'].by_key()['color']"
   ]
  },
  {
   "cell_type": "code",
   "execution_count": null,
   "metadata": {},
   "outputs": [],
   "source": [
    "def savefig(fig, name, ext='pdf', **kwargs):\n",
    "    fig.savefig(\n",
    "        f'../pub/figs/{name}.{ext}',\n",
    "        transparent=True,\n",
    "        bbox_inches='tight',\n",
    "        pad_inches=0,\n",
    "        **kwargs,\n",
    "    )\n",
    "\n",
    "\n",
    "def to_corr(x, ref):\n",
    "    return (ref[0] - x) / (ref[0] - ref[1])\n",
    "\n",
    "\n",
    "def to_corr_error(x, ref):\n",
    "    return x / (ref[0] - ref[1])"
   ]
  },
  {
   "cell_type": "markdown",
   "metadata": {},
   "source": [
    "## Learning curves"
   ]
  },
  {
   "cell_type": "code",
   "execution_count": null,
   "metadata": {},
   "outputs": [],
   "source": [
    "systems = ['H2', 'Be', 'B', 'C', 'LiH', 'Li2']\n",
    "ansatzes = ['SD-SJ', 'SD-SJBF', 'MD-SJ', 'MD-SJBF']\n",
    "results = {}\n",
    "with h5py.File('../data/raw/data_pub_small_systems.h5', 'r') as f:\n",
    "    for system, ansatz in product(systems, ansatzes):\n",
    "        E_mean = f[system][ansatz]['train'][...].mean(axis=1)\n",
    "        ewm = EWMAverage(outlier_maxlen=3, outlier=3, decay_alpha=10)\n",
    "        E_ewm = []\n",
    "        for e in E_mean:\n",
    "            ewm.update(e)\n",
    "            E_ewm.append((ewm.mean.item().n, ewm.mean.item().s))\n",
    "        E_ewm = unp.uarray(*zip(*E_ewm))\n",
    "        results[system, ansatz] = (E_ewm, f[system].attrs['ref_energy'])"
   ]
  },
  {
   "cell_type": "code",
   "execution_count": null,
   "metadata": {},
   "outputs": [],
   "source": [
    "def plot_mean_err(ax, data, ref_enes, bs, decay):\n",
    "    step, E_ewm = data\n",
    "    inds = np.geomspace(1, 9_999, 200).astype(int)\n",
    "    energy = to_corr(unp.nominal_values(E_ewm), ref_enes)\n",
    "    err = to_corr_error(unp.std_devs(E_ewm), ref_enes)\n",
    "    ax.plot(step[inds], energy[inds])\n",
    "    ax.fill_between(\n",
    "        step[inds], (energy + err)[inds], (energy - err)[inds], color='grey', alpha=0.5\n",
    "    )\n",
    "\n",
    "\n",
    "fig, axes = plt.subplots(\n",
    "    len(systems),\n",
    "    len(ansatzes),\n",
    "    figsize=(3.6, 5.5),\n",
    "    gridspec_kw=dict(hspace=0.08, wspace=0.09),\n",
    "    sharex=True,\n",
    "    sharey=True,\n",
    ")\n",
    "for (i, system), (j, ansatz) in product(enumerate(systems), enumerate(ansatzes),):\n",
    "    ax = axes[i, j]\n",
    "    plot_mean_err(\n",
    "        ax,\n",
    "        (np.arange(0, 10_000), results[system, ansatz][0]),\n",
    "        results[system, ansatz][1],\n",
    "        10_000,\n",
    "        3,\n",
    "    )\n",
    "    ax.set_xscale('log')\n",
    "    ax.set_yscale('corr_energy')\n",
    "    ax.set_xticks([1, 10, 100, 1000])\n",
    "    ax.set_xticklabels([1, None, None, 1000])\n",
    "    ax.xaxis.set_minor_locator(mpl.ticker.LogLocator(subs=(4, 7), numticks=8))\n",
    "    ax.set_xticklabels([], minor=True)\n",
    "    ax.set_xlim(1, 1e4)\n",
    "    ax.set_ylim(-0.3, 0.999)\n",
    "    ax.grid(axis='y', which='major', ls='dotted')\n",
    "    if i == 0:\n",
    "        ax.set_title(ansatz)\n",
    "    if j == 0:\n",
    "        ax.set_ylabel(fr'$\\mathrm{{{system.replace(\"2\", \"_2\")}}}$', labelpad=16)\n",
    "fig.text(0.5, 0.06, 'iterations', ha='center')\n",
    "fig.text(-0.015, 0.5, 'correlation energy', rotation='vertical', va='center')\n",
    "savefig(fig, 'learning-curves')"
   ]
  },
  {
   "cell_type": "markdown",
   "metadata": {
    "lines_to_next_cell": 2
   },
   "source": [
    "## H10"
   ]
  },
  {
   "cell_type": "code",
   "execution_count": null,
   "metadata": {},
   "outputs": [],
   "source": [
    "distances = np.array([1.2, 1.4, 1.6, 1.8, 2.0, 2.4, 2.8, 3.2, 3.6])\n",
    "systems = [f'H10_d{di}' for di in distances]\n",
    "ansatzes = ['SD-SJ', 'SD-SJBF', 'MD-SJBF']\n",
    "data_corr = {}\n",
    "with h5py.File('../data/raw/data_pub_h10.h5', 'r') as f:\n",
    "    ref_energies = np.array([f[system].attrs['ref_energy'] for system in systems])\n",
    "    for ansatz in ansatzes:\n",
    "        data = np.array([f[system][ansatz].attrs['energy'] for system in systems])\n",
    "        data_corr[ansatz] = np.array(\n",
    "            [\n",
    "                [to_corr(ei[0], ei_ref), to_corr_error(ei[1], ei_ref)]\n",
    "                for ei, ei_ref in zip(data, ref_energies)\n",
    "            ]\n",
    "        )"
   ]
  },
  {
   "cell_type": "code",
   "execution_count": null,
   "metadata": {},
   "outputs": [],
   "source": [
    "fig, ax = plt.subplots(figsize=(3.63, 2.7))\n",
    "for i, ansatz in enumerate(ansatzes):\n",
    "    ax.errorbar(\n",
    "        distances,\n",
    "        data_corr[ansatz][:, 0],\n",
    "        data_corr[ansatz][:, 1],\n",
    "        label=ansatz,\n",
    "        ls=[':', '-.', '-'][i],\n",
    "        fillstyle=['none', 'full', 'full'][i],\n",
    "        marker='o',\n",
    "        ms='4',\n",
    "        color='C0',\n",
    "    )\n",
    "\n",
    "ax.legend(loc='lower center', bbox_to_anchor=(0.43, 1), ncol=3)\n",
    "ax.set_ylabel('correlation energy', labelpad=7)\n",
    "ax.set_xlabel('H–H distance [a.u.]')\n",
    "ax.set_yscale('corr_energy')\n",
    "ax.set_xticks(distances[::2])\n",
    "ax.grid(axis='y', which='major', ls='dotted')\n",
    "savefig(fig, 'h10-dis-curve')"
   ]
  },
  {
   "cell_type": "markdown",
   "metadata": {},
   "source": [
    "## Distance basis"
   ]
  },
  {
   "cell_type": "code",
   "execution_count": null,
   "metadata": {},
   "outputs": [],
   "source": [
    "fig, ax = plt.subplots(figsize=(2, 2))\n",
    "x = torch.linspace(0, 12, 300)\n",
    "ax.plot(x.numpy(), DistanceBasis(32, envelope='nocusp')(x).numpy())\n",
    "ax.set_xlabel(r'$r/a_0$')\n",
    "ax.set_ylabel(r'$\\mathbf{e}(r)$')\n",
    "ax.set_yticks([0, 0.4])\n",
    "savefig(fig, 'dist-features')"
   ]
  },
  {
   "cell_type": "markdown",
   "metadata": {},
   "source": [
    "## Diatomics"
   ]
  },
  {
   "cell_type": "code",
   "execution_count": null,
   "metadata": {},
   "outputs": [],
   "source": [
    "refs_qmc = pd.read_csv('../data/extern/diatomics-qmc.csv').set_index(['system', 'ref'])\n",
    "refs_exact = pd.read_csv('../data/extern/diatomics-exact.csv').set_index(['system'])\n",
    "\n",
    "dets = [1, 3, 10, 30, 100]\n",
    "systems = ['Li2', 'Be2', 'B2', 'C2']\n",
    "refs = ['Filippi', 'Toulouse', 'Morales']\n",
    "with h5py.File('../data/raw/data_pub_diatomics.h5', 'r') as f:\n",
    "    Es = np.array(\n",
    "        [[f[system][f'{d}det'].attrs['energy'] for d in dets] for system in systems]\n",
    "    )\n",
    "    ref_energies = np.array([f[system].attrs['ref_energy'] for system in systems])"
   ]
  },
  {
   "cell_type": "code",
   "execution_count": null,
   "metadata": {},
   "outputs": [],
   "source": [
    "def plot_vmc_dmc(ax, dets, e_vmc, e_dmc, e_ref, label, color, marker):\n",
    "    ax.plot(\n",
    "        dets,\n",
    "        to_corr(e_vmc, e_ref),\n",
    "        label=f'Ref. [{label}]',\n",
    "        ls=' ',\n",
    "        fillstyle='none',\n",
    "        marker=marker,\n",
    "        color=color,\n",
    "        ms=5,\n",
    "    )\n",
    "    ax.plot(\n",
    "        dets, to_corr(e_dmc, e_ref), ls=' ', marker='x', fillstyle='none', color=color,\n",
    "    )\n",
    "    ax.plot(\n",
    "        [dets, dets],\n",
    "        [to_corr(e_vmc, e_ref), to_corr(e_dmc, e_ref)],\n",
    "        color=color,\n",
    "        ls=':',\n",
    "    )\n",
    "\n",
    "\n",
    "fig, axes = plt.subplots(\n",
    "    2,\n",
    "    2,\n",
    "    sharex=True,\n",
    "    sharey=True,\n",
    "    figsize=(3.5, 2.6),\n",
    "    gridspec_kw=dict(hspace=0.08, wspace=0.06),\n",
    ")\n",
    "for i, ax, s, ek in zip(range(4), axes.flat, systems, Es):\n",
    "    ax.errorbar(\n",
    "        dets,\n",
    "        to_corr(ek[:, 0], ref_energies[i]),\n",
    "        to_corr_error(ek[:, 1], ref_energies[i]),\n",
    "        ms=5,\n",
    "        marker='o',\n",
    "        ls='',\n",
    "        color='C0',\n",
    "        linewidth=2,\n",
    "        label='PauliNet',\n",
    "    )\n",
    "    ax.plot(\n",
    "        dets,\n",
    "        to_corr(ek[:, 0], ref_energies[i]),\n",
    "        ls=':',\n",
    "        color='grey',\n",
    "        linewidth=2,\n",
    "        zorder=0,\n",
    "    )\n",
    "    for ref, color, marker in zip(refs, 'gry', 'o^^'):\n",
    "        ref_j = refs_qmc.loc(0)[systems[i], ref]\n",
    "        plot_vmc_dmc(\n",
    "            ax,\n",
    "            ref_j['ndet'],\n",
    "            ref_j['e_vmc'],\n",
    "            ref_j['e_dmc'],\n",
    "            refs_exact.loc()[s],\n",
    "            'abc'[refs.index(ref)],\n",
    "            color,\n",
    "            marker,\n",
    "        )\n",
    "    ax.set_xscale('log')\n",
    "    ax.set_xlim(0.5, 5_000)\n",
    "    ax.set_xticks([1, 10, 100, 1000])\n",
    "    ax.set_xticklabels([1, 10, 100, 1000])\n",
    "    ax.xaxis.set_minor_locator(mpl.ticker.LogLocator(subs=(4, 7), numticks=8))\n",
    "    ax.set_xticklabels([], minor=True)\n",
    "    ax.set_yscale('corr_energy')\n",
    "    ax.set_ylim(0.7, 0.9992)\n",
    "    ax.grid(axis='y', which='major', ls='dotted')\n",
    "    ax.annotate(\n",
    "        fr'$\\mathrm{{{s.replace(\"2\", \"_2\")}}}$', (0.05, 0.8), xycoords='axes fraction'\n",
    "    )\n",
    "    if ax is axes.flat[0]:\n",
    "        ax.legend(\n",
    "            loc='lower center',\n",
    "            bbox_to_anchor=(0.8, 1),\n",
    "            ncol=4,\n",
    "            handletextpad=0.5,\n",
    "            columnspacing=1,\n",
    "        )\n",
    "fig.text(\n",
    "    0.5, -0.02, 'number of determinants/CSFs', ha='center', va='center',\n",
    ")\n",
    "fig.text(\n",
    "    -0.02, 0.5, 'correlation energy', ha='center', va='center', rotation='vertical',\n",
    ")\n",
    "savefig(fig, 'diatomics')"
   ]
  },
  {
   "cell_type": "markdown",
   "metadata": {},
   "source": [
    "## Determinants"
   ]
  },
  {
   "cell_type": "markdown",
   "metadata": {},
   "source": [
    "- NN-QMC: 1s to 10s\n",
    "- standard MD-QMC: 100s to 100,000s\n",
    "- NN-CI: 100,000s\n",
    "- FCI-QMC: 1,000,000s to 100,000,000s\n",
    "- FCI: to 100,000,000s to 1,000,000,000s"
   ]
  },
  {
   "cell_type": "code",
   "execution_count": null,
   "metadata": {},
   "outputs": [],
   "source": [
    "def sstep(x):\n",
    "    return np.piecewise(\n",
    "        x,\n",
    "        [x <= 0, x < 1],\n",
    "        [0, lambda x: -20 * x ** 7 + 70 * x ** 6 - 84 * x ** 5 + 35 * x ** 4, 1],\n",
    "    )\n",
    "\n",
    "\n",
    "def get_bar(ws, vmax=1, dens=100):\n",
    "    return np.hstack(\n",
    "        [\n",
    "            np.linspace(0, vmax, dens * ws[0]),\n",
    "            vmax * np.ones(dens * ws[1]),\n",
    "            np.linspace(vmax, 0, dens * ws[2]),\n",
    "        ]\n",
    "    )\n",
    "\n",
    "\n",
    "fig, ax = plt.subplots(figsize=(2.7, 1.6))\n",
    "payload = [\n",
    "    ('multideterminant\\nQMC + NNs', 2, 50),\n",
    "    ('multideterminant QMC', 100, 1e5),\n",
    "    ('configuration\\ninteraction + NNs', 1e5, 1e6),\n",
    "    ('configuration interaction', 2e6, 2e9),\n",
    "]\n",
    "for i, (_, fro, to) in enumerate(payload):\n",
    "    ax.add_patch(Rectangle((fro, i + 0.1), to - fro, 0.8, color='grey'))\n",
    "ax.set_xlim(1, 1e10)\n",
    "ax.set_ylim(0, 4)\n",
    "ax.set_xscale('log')\n",
    "ax.set_xlabel('number of determinants')\n",
    "ax.axvline(1e5, color='black', ls='dashed')\n",
    "ax.text(2.5, 4.3, '1st quantization', fontstyle='italic')\n",
    "ax.text(2.0e5, 4.3, '2nd quantization', fontstyle='italic')\n",
    "ax.set_yticks([0.5, 1.5, 2.5, 3.5])\n",
    "ax.set_yticklabels([l for l, *_ in payload], ha='right')\n",
    "savefig(fig, 'ndets')"
   ]
  },
  {
   "cell_type": "markdown",
   "metadata": {},
   "source": [
    "## Cyclobutadiene"
   ]
  },
  {
   "cell_type": "code",
   "execution_count": null,
   "metadata": {},
   "outputs": [],
   "source": [
    "results = pd.read_csv('../data/final/cyclobutadiene-fit.csv')"
   ]
  },
  {
   "cell_type": "code",
   "execution_count": null,
   "metadata": {},
   "outputs": [],
   "source": [
    "fig, ax = plt.subplots(figsize=(3, 1.7))\n",
    "for (batch, state), traj in results.groupby(['batch', 'state']):\n",
    "    if batch != 250:\n",
    "        continue\n",
    "    color = {'ground': COLORS[0], 'transition': 'lightskyblue'}[state]\n",
    "    if state == 'ground':\n",
    "        state = 'minimum'\n",
    "    ax.plot(traj['step'], traj['energy_ewm'], label=state, color=color)\n",
    "ax.set_ylim(-154.65, None)\n",
    "ax.set_xlim(10, None)\n",
    "ax.yaxis.set_major_locator(mpl.ticker.MultipleLocator(0.5))\n",
    "ax.yaxis.set_minor_locator(mpl.ticker.MultipleLocator(0.1))\n",
    "ax.grid(axis='y', which='major')\n",
    "ax.grid(axis='y', which='minor', ls='dotted')\n",
    "ax.set_xscale('log')\n",
    "ax.set_xlabel('iterations')\n",
    "ax.set_ylabel('total energy [a.u.]')\n",
    "ax.legend()\n",
    "savefig(fig, 'cyclobutadiene-training')"
   ]
  },
  {
   "cell_type": "code",
   "execution_count": null,
   "metadata": {},
   "outputs": [],
   "source": [
    "results = pd.read_csv('../data/final/cyclobutadiene-sample.csv')\n",
    "(\n",
    "    results.groupby(['batch', 'state'])\n",
    "    .apply(lambda x: ufloat(x['energy'].mean(), x['energy'].std() / np.sqrt(len(x))))\n",
    "    .unstack()\n",
    "    .pipe(lambda x: 632 * (x['ground'] - x['transition']))\n",
    ")"
   ]
  }
 ],
 "metadata": {
  "kernelspec": {
   "display_name": "dl-qmc",
   "language": "python",
   "name": "dl-qmc"
  },
  "language_info": {
   "codemirror_mode": {
    "name": "ipython",
    "version": 3
   },
   "file_extension": ".py",
   "mimetype": "text/x-python",
   "name": "python",
   "nbconvert_exporter": "python",
   "pygments_lexer": "ipython3",
   "version": "3.8.2"
  },
  "toc-autonumbering": true,
  "toc-showcode": true,
  "toc-showtags": false
 },
 "nbformat": 4,
 "nbformat_minor": 4
}
