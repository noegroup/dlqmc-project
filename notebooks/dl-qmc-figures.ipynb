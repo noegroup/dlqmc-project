{
 "cells": [
  {
   "cell_type": "code",
   "execution_count": null,
   "metadata": {},
   "outputs": [],
   "source": [
    "import torch\n",
    "from pathlib import Path\n",
    "import numpy as np\n",
    "import pandas as pd\n",
    "from tensorboard.backend.event_processing.event_multiplexer import EventMultiplexer\n",
    "import matplotlib as mpl\n",
    "import matplotlib.pyplot as plt\n",
    "from itertools import product\n",
    "from scipy.interpolate import Rbf\n",
    "from uncertainties import ufloat\n",
    "from scipy.special import erf\n",
    "from matplotlib.patches import Rectangle\n",
    "\n",
    "from deepqmc.wf.paulinet import DistanceBasis"
   ]
  },
  {
   "cell_type": "code",
   "execution_count": null,
   "metadata": {},
   "outputs": [],
   "source": [
    "# needs to be in a separate cell, see https://github.com/ipython/ipython/issues/11098\n",
    "mpl.rcParams['figure.dpi'] = 100 \n",
    "mpl.rc('font', family='serif', serif='STIXGeneral', size=10)\n",
    "mpl.rc('mathtext', fontset='stix')\n",
    "COLORS = plt.rcParams['axes.prop_cycle'].by_key()['color']"
   ]
  },
  {
   "cell_type": "code",
   "execution_count": null,
   "metadata": {},
   "outputs": [],
   "source": [
    "def savefig(fig, name, ext='pdf', **kwargs):\n",
    "    fig.savefig(\n",
    "        f'../pub/figs/{name}.{ext}',\n",
    "        transparent=True,\n",
    "        bbox_inches='tight',\n",
    "        pad_inches=0,\n",
    "        **kwargs\n",
    "    )"
   ]
  },
  {
   "cell_type": "markdown",
   "metadata": {},
   "source": [
    "## Learning curves"
   ]
  },
  {
   "cell_type": "code",
   "execution_count": null,
   "metadata": {},
   "outputs": [],
   "source": [
    "ref_energies = {\n",
    "    'H2': (-1.133509, -1.17447),\n",
    "    'LiH': (-7.98737, -8.070548),\n",
    "    'Be': (-14.57301, -14.66736),\n",
    "    'B': (-24.53316, -24.65391),\n",
    "    'H10-1.8': (-5.3974043, -5.6655),\n",
    "}\n",
    "\n",
    "def to_corr(x, ref):\n",
    "    return (ref[0] - x) / (ref[0] - ref[1])"
   ]
  },
  {
   "cell_type": "code",
   "execution_count": null,
   "metadata": {},
   "outputs": [],
   "source": [
    "mplx = EventMultiplexer()\n",
    "mplx.AddRunsFromDirectory('../runs/r007')\n",
    "mplx.AddRunsFromDirectory('../runs/r009')\n",
    "mplx.Reload()"
   ]
  },
  {
   "cell_type": "code",
   "execution_count": null,
   "metadata": {},
   "outputs": [],
   "source": [
    "runs = list(mplx.Runs().keys())\n",
    "runs"
   ]
  },
  {
   "cell_type": "code",
   "execution_count": null,
   "metadata": {},
   "outputs": [],
   "source": [
    "df = (\n",
    "    pd.concat(\n",
    "        {\n",
    "            (*run.split('/'), var):\n",
    "            pd.DataFrame(mplx.Scalars(run, f'E_loc/{var}')).set_index('step')\n",
    "            for var in ['mean', 'var']\n",
    "            for run in runs\n",
    "            if ('H10' not in run or '1.8' in run)\n",
    "        },\n",
    "        names=['system', 'ansatz', 'var']\n",
    "    )\n",
    "    .unstack('var')\n",
    "    .drop(columns=('wall_time', 'var'))\n",
    ")\n",
    "df.columns = ['wall_time', 'E_mean', 'E_var']\n",
    "df.head()"
   ]
  },
  {
   "cell_type": "code",
   "execution_count": null,
   "metadata": {},
   "outputs": [],
   "source": [
    "df.index.levels"
   ]
  },
  {
   "cell_type": "code",
   "execution_count": null,
   "metadata": {},
   "outputs": [],
   "source": [
    "def ewm(x, X, Y, widths):\n",
    "    ws = np.where(x[:, None] >= X, 1 / widths * np.exp(-(x[:, None] - X) / widths), 0)\n",
    "    return (Y * ws).sum(axis=-1) / ws.sum(axis=-1)\n",
    "    \n",
    "\n",
    "def plot_mean_var(ax, df, ref_enes, bs, plot_sd=True):\n",
    "    step, E_mean, E_var = df.reset_index()[['step', 'E_mean', 'E_var']].values.T\n",
    "    # l_mean, = ax.plot(step, 1 - to_corr(df.E_mean.ewm(alpha=0.04).mean(), ref_enes))\n",
    "    x = np.hstack([[0], np.logspace(0, np.log10(step.max()), 1000)])\n",
    "    err = 1 - to_corr(df.E_mean.values, ref_enes)\n",
    "    bstd = np.sqrt(df.E_var.ewm(alpha=0.04).mean().values)/(ref_enes[0]-ref_enes[1])/np.sqrt(bs)\n",
    "    # ax.scatter(step, bstd/err)\n",
    "    ws = 2/np.where(err > 0.3e-2, err, 0.3e-2)  #  * 20 * np.sqrt(df.E_var.ewm(alpha=0.04).mean().values)\n",
    "    if plot_sd:\n",
    "        l_var, = ax.plot(x, ewm(x, step, np.sqrt(E_var), 20)/(ref_enes[0]-ref_enes[1])/np.sqrt(bs), linestyle='dashed', color='black')\n",
    "    else:\n",
    "        l_var = None\n",
    "    l_mean, = ax.plot(x, 1 - to_corr(ewm(x, step, E_mean, ws), ref_enes))\n",
    "    ax.axhline(0.01, color='black', ls='dotted')\n",
    "    ax.set_xscale('log')\n",
    "    ax.set_yscale('log')\n",
    "    # ax2 = ax.twinx()\n",
    "    # ax2.set_yscale('log')\n",
    "    ax.set_xlabel('iterations')\n",
    "    ax.set_ylabel(r'$1-(E-E_\\mathrm{HF})/(E_0-E_\\mathrm{HF})$')\n",
    "    # ax2.set_ylabel('std(E)')\n",
    "    return l_mean, l_var\n",
    "\n",
    "\n",
    "fig, ax = plt.subplots()\n",
    "ax.set_yscale('log')\n",
    "ax.set_xscale('log')\n",
    "\n",
    "\n",
    "plot_mean_var(ax, df.loc(0)['LiH', 'MD-SJBF'], ref_energies['LiH'], 10_000);"
   ]
  },
  {
   "cell_type": "code",
   "execution_count": null,
   "metadata": {},
   "outputs": [],
   "source": [
    "fig, axes = plt.subplots(5, 4, figsize=(3.4, 5.5), gridspec_kw={'hspace': 0.06, 'wspace': 0.04})\n",
    "for (i, system), (j, ansatz) in product(\n",
    "    enumerate(['H2', 'LiH', 'Be', 'B', 'H10-1.8']),\n",
    "    enumerate(['SD-SJ', 'SD-SJBF', 'MD-SJ', 'MD-SJBF']),\n",
    "):\n",
    "    ax = axes[i, j]\n",
    "    l_mean, l_var = plot_mean_var(\n",
    "        ax,\n",
    "        df.loc(0)[system, ansatz],\n",
    "        ref_energies[system],\n",
    "        10_000 if 'H10' not in system else 4_000\n",
    "    )\n",
    "    ax.set_xticks([1, 10, 100, 1000])\n",
    "    ax.set_xticklabels([1, '', '', r'$10^3$'])\n",
    "    ax.set_yticks([1e-3, 1e-2, 1e-1, 1])\n",
    "    ax.set_yticklabels(['0.1%', '1%', '10%', '100%'])\n",
    "    # ax.set_title(f'{system} – {ansatz}', fontdict={'fontsize': 10})\n",
    "    if i == 0:\n",
    "        ax.set_title(ansatz, fontdict={'fontsize': 10})\n",
    "    if j == 0:\n",
    "        ax.set_ylabel(system.replace('-1.8', ''), labelpad=17)\n",
    "    ax.axhline(1, color='black', ls='dotted')\n",
    "    ax.set_xlim(1, 1e4)\n",
    "    ax.set_ylim(1e-3, 8)\n",
    "    # ax2.set_ylim(1e-5, 10)\n",
    "    if i != 4:\n",
    "        ax.set_xticks([])\n",
    "    # else:\n",
    "    #     ax.set_xticks([2.5, 5, 7.5, 25, 50, 75, 250, 500, 750, 2500, 5000, 7500], minor=True)\n",
    "    ax.set_xlabel(None)\n",
    "    if j != 0:\n",
    "        ax.set_yticks([])\n",
    "        ax.set_ylabel(None)\n",
    "    # else:\n",
    "    #     ax.set_yticks(np.array([0.25, 0.5, 0.75, 2.5, 5, 7.5, 25, 50, 75, 250, 500])/100, minor=True)\n",
    "    # if j != 3:\n",
    "    #     ax2.set_yticks([])\n",
    "    #     ax2.set_ylabel(None)\n",
    "fig.legend(\n",
    "    [l_mean, l_var],\n",
    "    ['mean', 'SD of mean'],\n",
    "    loc='lower center',\n",
    "    bbox_to_anchor=(0.65, 0.0),\n",
    "    ncol=2,\n",
    ")\n",
    "fig.text(-0.03, 0.6, 'correlation energy error', rotation='vertical', ha='center')\n",
    "fig.text(0.5, 0.08, 'iterations', ha='center')\n",
    "fig.tight_layout()\n",
    "fig.subplots_adjust(bottom=0.15) "
   ]
  },
  {
   "cell_type": "code",
   "execution_count": null,
   "metadata": {},
   "outputs": [],
   "source": [
    "fig.savefig('../pub/figs/learning-curves.pdf', bbox_inches='tight')"
   ]
  },
  {
   "cell_type": "markdown",
   "metadata": {},
   "source": [
    "## Interaction curves"
   ]
  },
  {
   "cell_type": "code",
   "execution_count": null,
   "metadata": {},
   "outputs": [],
   "source": [
    "ene_h2_hf = np.load('../data/h2/discurve_H2_E_hf_ccpVQZ.npy')\n",
    "ene_h2_fci = np.load('../data/h2/discurve_H2_E_fci_ccpVQZ.npy')\n",
    "ene_h2_dl = np.load('../data/h2/discurve_H2_mean.npy')"
   ]
  },
  {
   "cell_type": "code",
   "execution_count": null,
   "metadata": {},
   "outputs": [],
   "source": [
    "ene_h10_hf = []\n",
    "for p in sorted(Path('../data/motta-hydrogen/N_10_OBC').glob('*/RHF_CBS')):\n",
    "    ene_h10_hf.append((float(p.parent.name[2:]), *np.loadtxt(p)))\n",
    "ene_h10_hf = np.array(ene_h10_hf)\n",
    "ene_h10_exact = []\n",
    "for p in sorted(Path('../data/motta-hydrogen/N_10_OBC').glob('*/MRCI+Q+F12_CBS')):\n",
    "    ene_h10_exact.append((float(p.parent.name[2:]), *np.loadtxt(p)))\n",
    "ene_h10_exact = np.array(ene_h10_exact)"
   ]
  },
  {
   "cell_type": "code",
   "execution_count": null,
   "metadata": {},
   "outputs": [],
   "source": [
    "ene_h10_paulinet = np.array([-5.129,-5.460,-5.616,-5.651,-5.626,-5.495,-5.340,-5.218,-5.107])\n",
    "ene_h10_deepwf2 = np.array(\"\"\"\n",
    "0.99967873\t-0.43235004\n",
    "1.2030338\t-0.5072482\n",
    "1.4010332\t-0.5403461\n",
    "1.5985633\t-0.5509359\n",
    "1.800484\t-0.55702364\n",
    "1.9976655\t-0.5508931\n",
    "2.3964996\t-0.5379886\n",
    "2.7951126\t-0.5144731\n",
    "3.1983907\t-0.4996388\n",
    "3.6016958\t-0.4860907\n",
    "\"\"\".split()).astype(float).reshape(-1, 2)[:, 1]"
   ]
  },
  {
   "cell_type": "code",
   "execution_count": null,
   "metadata": {},
   "outputs": [],
   "source": [
    "fig, axes = plt.subplots(1, 2, figsize=(5.5, 1.5), sharey=True, sharex=True)\n",
    "axes[0].plot(np.arange(.8, 3.65, .2), ene_h2_hf[1:]/2)\n",
    "l1, = axes[0].plot(np.arange(.8, 3.65, .2), ene_h2_dl[1:]/2)\n",
    "axes[0].plot(np.arange(.8, 3.65, .2), ene_h2_fci[1:]/2, color='black', ls='dotted')\n",
    "l0, = axes[1].plot(ene_h10_hf[1:, 0], ene_h10_hf[1:, 1]/10)\n",
    "axes[1].plot(ene_h10_hf[1:, 0], np.array(ene_h10_paulinet)/10, color=COLORS[1])\n",
    "l2, = axes[1].plot(ene_h10_hf[1:, 0], np.array(ene_h10_deepwf2[1:]), color=COLORS[2])\n",
    "l3, = axes[1].plot(ene_h10_exact[1:, 0], ene_h10_exact[1:, 1]/10, color='black', ls='dotted' )\n",
    "for i in range(2):\n",
    "    axes[i].set_xlabel(r'$d_\\mathrm{HH}/a_0$')\n",
    "axes[0].set_ylabel(r'$E_0/(N_\\mathrm{H}E_\\mathrm{h})$')\n",
    "axes[0].text(.8, -.48, '(a)')\n",
    "axes[1].text(.8, -.48, '(b)')\n",
    "fig.legend(\n",
    "    [l0, l2, l1, l3],\n",
    "    ['Hartree–Fock', 'DeepWF', 'PauliNet', 'exact'],\n",
    "    loc='center left', bbox_to_anchor=(.95, 0.7), ncol=1\n",
    ")"
   ]
  },
  {
   "cell_type": "code",
   "execution_count": null,
   "metadata": {},
   "outputs": [],
   "source": [
    "fig, axes = plt.subplots(1, 2, figsize=(3.5, 1.85), sharey=True, sharex=True)\n",
    "axes[0].plot(np.arange(.8, 3.65, .2), ene_h2_hf[1:]/2)\n",
    "l1, = axes[0].plot(np.arange(.8, 3.65, .2), ene_h2_dl[1:]/2)\n",
    "axes[0].plot(np.arange(.8, 3.65, .2), ene_h2_fci[1:]/2, color='black', ls='dotted')\n",
    "l0, = axes[1].plot(ene_h10_hf[1:, 0], ene_h10_hf[1:, 1]/10)\n",
    "axes[1].plot(ene_h10_hf[1:, 0], np.array(ene_h10_paulinet)/10, color=COLORS[1])\n",
    "l2, = axes[1].plot(ene_h10_hf[1:, 0], np.array(ene_h10_deepwf2[1:]), color=COLORS[2])\n",
    "l3, = axes[1].plot(ene_h10_exact[1:, 0], ene_h10_exact[1:, 1]/10, color='black', ls='dotted' )\n",
    "for i in range(2):\n",
    "    axes[i].set_xlabel(r'$d_\\mathrm{HH}/a_0$')\n",
    "axes[0].set_ylabel(r'$E_0/(N_\\mathrm{H}E_\\mathrm{h})$')\n",
    "axes[0].text(.8, -.48, '(a)')\n",
    "axes[1].text(.8, -.48, '(b)')\n",
    "axes[0].set_yticks([-0.5, -0.6])\n",
    "fig.legend(\n",
    "    [l0, l1, l2, l3],\n",
    "    ['Hartree–Fock', 'PauliNet', 'DeepWF', 'exact'],\n",
    "    loc='center left', bbox_to_anchor=(.2, 1.05), ncol=2\n",
    ")\n",
    "fig.tight_layout()\n",
    "fig.savefig('../pub/figs/int-curves.pdf', bbox_inches='tight')"
   ]
  },
  {
   "cell_type": "markdown",
   "metadata": {},
   "source": [
    "## Distance basis"
   ]
  },
  {
   "cell_type": "code",
   "execution_count": null,
   "metadata": {},
   "outputs": [],
   "source": [
    "fig, ax = plt.subplots(1, 1, figsize=(2, 2))\n",
    "x = torch.linspace(0, 12, 300)\n",
    "ax.plot(x.numpy(), DistanceBasis(32, envelope='nocusp')(x).numpy());\n",
    "ax.set_xlabel(r'$r/a_0$')\n",
    "ax.set_ylabel(r'$\\mathbf{e}(r)$')\n",
    "ax.set_yticks([0, 0.4])\n",
    "fig.savefig('../pub/figs/dist-features.pdf', bbox_inches='tight')"
   ]
  },
  {
   "cell_type": "markdown",
   "metadata": {},
   "source": [
    "## Determinants"
   ]
  },
  {
   "cell_type": "markdown",
   "metadata": {},
   "source": [
    "- NN-QMC: 1s to 10s\n",
    "- standard MD-QMC: 100s to 100,000s\n",
    "- NN-CI: 100,000s\n",
    "- FCI-QMC: 1,000,000s to 100,000,000s\n",
    "- FCI: to 100,000,000s to 1,000,000,000s"
   ]
  },
  {
   "cell_type": "code",
   "execution_count": null,
   "metadata": {},
   "outputs": [],
   "source": [
    "def sstep(x):\n",
    "    return np.piecewise(\n",
    "        x,\n",
    "        [x <= 0, x < 1],\n",
    "        [0, lambda x: -20 * x ** 7 + 70 * x ** 6 - 84 * x ** 5 + 35 * x ** 4, 1],\n",
    "    )\n",
    "\n",
    "\n",
    "def get_bar(ws, vmax=1, dens=100):\n",
    "    return np.hstack(\n",
    "        [\n",
    "            np.linspace(0, vmax, dens * ws[0]),\n",
    "            vmax * np.ones(dens * ws[1]),\n",
    "            np.linspace(vmax, 0, dens * ws[2]),\n",
    "        ]\n",
    "    )\n",
    "\n",
    "\n",
    "fig, ax = plt.subplots(figsize=(2.7, 1.6))\n",
    "payload = [\n",
    "    ('multideterminant\\nQMC + NNs', 2, 50),\n",
    "    ('multideterminant QMC', 100, 1e5),\n",
    "    ('configuration\\ninteraction + NNs', 1e5, 1e6),\n",
    "    ('configuration interaction', 2e6, 2e9),\n",
    "]\n",
    "\n",
    "for i, (_, fro, to) in enumerate(payload):\n",
    "    ax.add_patch(Rectangle((fro, i + 0.1), to - fro, 0.8, color='grey'))\n",
    "ax.set_xlim(1, 1e10)\n",
    "ax.set_ylim(0, 4)\n",
    "ax.set_xscale('log')\n",
    "ax.set_xlabel('number of determinants')\n",
    "ax.axvline(1e5, color='black', ls='dashed')\n",
    "ax.text(2.5, 4.3, '1st quantization', fontstyle='italic')\n",
    "ax.text(2.0e5, 4.3, '2nd quantization', fontstyle='italic')\n",
    "ax.set_yticks([0.5, 1.5, 2.5, 3.5])\n",
    "ax.set_yticklabels([l for l, *_ in payload], ha='right', fontsize=9)\n",
    "savefig(fig, 'ndets')"
   ]
  },
  {
   "cell_type": "markdown",
   "metadata": {},
   "source": [
    "## Cyclobutadiene"
   ]
  },
  {
   "cell_type": "code",
   "execution_count": null,
   "metadata": {},
   "outputs": [],
   "source": [
    "results = pd.read_csv('../data/processed/cyclobutadiene-fit.csv')"
   ]
  },
  {
   "cell_type": "code",
   "execution_count": null,
   "metadata": {},
   "outputs": [],
   "source": [
    "fig, axes = plt.subplots(1, 2, figsize=(6, 3), sharex=True, sharey=True)\n",
    "for (batch, state), traj in results.groupby(['batch', 'state']):\n",
    "    col = {250: 0, 375: 1}[batch]\n",
    "    ax = axes[col]\n",
    "    ax.plot(traj['step'], traj['energy_ewm'], label=state)\n",
    "    ax.set_title((batch, state))\n",
    "for ax in axes.flat:\n",
    "    ax.set_ylim(-154.65, -154.0)\n",
    "    ax.xaxis.set_major_locator(mpl.ticker.MultipleLocator(1000))\n",
    "    ax.xaxis.set_minor_locator(mpl.ticker.MultipleLocator(250))\n",
    "    ax.yaxis.set_major_locator(mpl.ticker.MultipleLocator(0.1))\n",
    "    ax.yaxis.set_minor_locator(mpl.ticker.MultipleLocator(0.02))\n",
    "    ax.grid(axis='y', which='major')\n",
    "    ax.grid(axis='y', which='minor', ls='dotted')\n",
    "    ax.grid(axis='x', which='major')\n",
    "    ax.grid(axis='x', which='minor', ls='dotted')\n",
    "axes[1].legend()\n",
    "fig.tight_layout()\n",
    "savefig(fig, 'cyclobutadiene-training')"
   ]
  },
  {
   "cell_type": "code",
   "execution_count": null,
   "metadata": {},
   "outputs": [],
   "source": [
    "results = pd.read_csv('../data/processed/cyclobutadiene-sample.csv')\n",
    "(\n",
    "    results\n",
    "    .groupby(['batch', 'state'])\n",
    "    .apply(lambda x: ufloat(x['energy'].mean(), x['energy'].std() / np.sqrt(len(x))))\n",
    "    .unstack()\n",
    "    .pipe(lambda x: 632 * (x['ground'] - x['transition']))\n",
    ")"
   ]
  }
 ],
 "metadata": {
  "kernelspec": {
   "display_name": "dl-qmc",
   "language": "python",
   "name": "dl-qmc"
  },
  "language_info": {
   "codemirror_mode": {
    "name": "ipython",
    "version": 3
   },
   "file_extension": ".py",
   "mimetype": "text/x-python",
   "name": "python",
   "nbconvert_exporter": "python",
   "pygments_lexer": "ipython3",
   "version": "3.8.2"
  },
  "toc-autonumbering": true
 },
 "nbformat": 4,
 "nbformat_minor": 4
}
