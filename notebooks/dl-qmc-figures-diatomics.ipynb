{
 "cells": [
  {
   "cell_type": "code",
   "execution_count": 1,
   "metadata": {
    "ExecuteTime": {
     "end_time": "2020-06-09T20:42:54.166662Z",
     "start_time": "2020-06-09T20:42:53.875989Z"
    }
   },
   "outputs": [],
   "source": [
    "import h5py\n",
    "import os\n",
    "import numpy as np\n",
    "import matplotlib.pyplot as plt\n",
    "import matplotlib as mpl\n",
    "mpl.rc('font', family='serif', serif='STIXGeneral', size=10)\n",
    "\n",
    "def to_corr(x, ref):\n",
    "    return (ref[0] - x) / (ref[0] - ref[1])\n",
    "def to_corr_error(x, ref):\n",
    "    return x / (ref[0] - ref[1])"
   ]
  },
  {
   "cell_type": "code",
   "execution_count": 2,
   "metadata": {
    "ExecuteTime": {
     "end_time": "2020-06-09T20:42:54.585139Z",
     "start_time": "2020-06-09T20:42:54.576925Z"
    }
   },
   "outputs": [],
   "source": [
    "f = h5py.File(f'{os.path.dirname(os.getcwd())}/data/raw/data_pub_diatomics.h5', 'a')\n",
    "f_ref = h5py.File(f'{os.path.dirname(os.getcwd())}/data/raw/data_pub_diatomics_refereces.h5', 'a')"
   ]
  },
  {
   "cell_type": "code",
   "execution_count": 6,
   "metadata": {
    "ExecuteTime": {
     "end_time": "2020-06-09T20:49:40.531723Z",
     "start_time": "2020-06-09T20:49:39.621415Z"
    },
    "scrolled": true
   },
   "outputs": [
    {
     "data": {
      "text/plain": [
       "<matplotlib.legend.Legend at 0x7fe24511c0f0>"
      ]
     },
     "execution_count": 6,
     "metadata": {},
     "output_type": "execute_result"
    },
    {
     "data": {
      "image/png": "[encoded data removed]",
      "text/plain": [
       "<Figure size 252x189 with 4 Axes>"
      ]
     },
     "metadata": {
      "needs_background": "light"
     },
     "output_type": "display_data"
    }
   ],
   "source": [
    "def plot_vmc_dmc(ax,dets,e_vmc,e_dmc,e_ref,label,color,marker):\n",
    "    ax.plot(dets,1-to_corr(e_vmc,e_ref),label=f'Ref. [{label}]',ls=' ',fillstyle='none',marker=marker,color=color,ms=5)\n",
    "    ax.plot(dets,1-to_corr(e_dmc,e_ref),ls=' ',marker='x',fillstyle='none',color=color)\n",
    "    ax.plot([dets,dets],[1-to_corr(e_vmc,e_ref),1-to_corr(e_dmc,e_ref)],color=color,ls=':')\n",
    "    \n",
    "\n",
    "dets=[1,3,10,30,100]\n",
    "systems = ['Li2','Be2','B2','C2']\n",
    "refs = ['Filippi','Toulouse','Morales']\n",
    "colors = ['g','r','y']\n",
    "marker = ['o','^','^']\n",
    "Es = np.array([[f[system][f'{d}det'].attrs['energy'] for d in dets] for system in systems])\n",
    "ref_energies=np.array([f[system].attrs['ref_energy'] for system in systems])\n",
    "y_ticks = np.concatenate([np.linspace(10**(i-3),10**(i-2),10) for i in range(3)])\n",
    "width =3.5\n",
    "fig, ((ax1, ax2), (ax3, ax4)) = plt.subplots(2, 2, sharex='all', figsize= (width,width*3/4))\n",
    "\n",
    "for i,axi,s,ek in zip(range(4),[ax1,ax2,ax3,ax4],systems,Es):\n",
    "    for xi in [0.001,0.01,0.1]:\n",
    "        axi.axhline(xi,ls=':',color='grey')\n",
    "    axi.errorbar(dets,1-to_corr(ek[:,0],ref_energies[i]),to_corr_error(ek[:,1],ref_energies[i]),ms=5,marker='o',ls='',color='C0',linewidth=2,label='PauliNet')\n",
    "    axi.plot(dets,1-to_corr(ek[:,0],ref_energies[i]),ls=':',color='grey',linewidth=2,zorder=0)\n",
    "    for j,ref in enumerate(refs):\n",
    "        plot_vmc_dmc(axi,f_ref[ref]['ndet'][...][i],f_ref[ref]['e_vmc'][...][...][i],f_ref[ref]['e_dmc'][...][...][i],f_ref['ref_energies'][s][...],ref,colors[j],marker[j])\n",
    "    fig.tight_layout()\n",
    "    axi.set_yscale('log')\n",
    "    axi.set_xscale('log')\n",
    "    axi.set_ylim(0.3,0.0009)\n",
    "    axi.set_xlim(0.5,5_000)\n",
    "    if i%2==0:\n",
    "        axi.set_yticks([0.1,.01,.001])\n",
    "        axi.set_yticks(y_ticks[y_ticks<0.3], minor=True)\n",
    "        axi.set_yticklabels([r'90%',r'99%',r'99.9%'])\n",
    "    else:\n",
    "        axi.set_yticks([])\n",
    "        axi.tick_params(axis='y', which='both', length=0)\n",
    "    if i//2==1:\n",
    "        axi.set_xticks([1,10,100,1000])\n",
    "        axi.set_xticklabels(['$1$','','','$10^3$'])\n",
    "    else:\n",
    "        axi.set_xticks([])\n",
    "        axi.tick_params(axis='x', which='both', length=0)\n",
    "    axi.annotate('$\\mathregular{{ {0} }}$'.format(s.replace('2','_2')),(1,0.004))\n",
    "\n",
    "fig.subplots_adjust(wspace = 0.02, hspace = 0.03 )\n",
    "fig.text(0.55, 0.03,'number of determinants/CSFs', ha='center', va='center')\n",
    "fig.text(0.01, 0.55,  'correlation energy', ha='center', va='center', rotation='vertical')\n",
    "plt.legend(loc = 0,bbox_to_anchor=(1.05,2.6),ncol=2)\n",
    "#plt.savefig('diatomics.pdf',bbox_inches='tight')"
   ]
  },
  {
   "cell_type": "code",
   "execution_count": null,
   "metadata": {},
   "outputs": [],
   "source": []
  }
 ],
 "metadata": {
  "kernelspec": {
   "display_name": "deepqmc",
   "language": "python",
   "name": "deepqmc"
  },
  "language_info": {
   "codemirror_mode": {
    "name": "ipython",
    "version": 3
   },
   "file_extension": ".py",
   "mimetype": "text/x-python",
   "name": "python",
   "nbconvert_exporter": "python",
   "pygments_lexer": "ipython3",
   "version": "3.7.1"
  }
 },
 "nbformat": 4,
 "nbformat_minor": 2
}
