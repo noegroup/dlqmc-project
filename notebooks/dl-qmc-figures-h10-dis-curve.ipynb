{
 "cells": [
  {
   "cell_type": "code",
   "execution_count": null,
   "metadata": {},
   "outputs": [],
   "source": [
    "import os\n",
    "import h5py\n",
    "import numpy as np\n",
    "import matplotlib.pyplot as plt\n",
    "import matplotlib as mpl\n",
    "mpl.rc('font', family='serif', serif='STIXGeneral', size=10)\n",
    "\n",
    "def to_corr(x, ref):\n",
    "    return (ref[0] - x) / (ref[0] - ref[1])\n",
    "def to_corr_error(x, ref):\n",
    "    return x / (ref[0] - ref[1])"
   ]
  },
  {
   "cell_type": "code",
   "execution_count": null,
   "metadata": {},
   "outputs": [],
   "source": [
    "f = h5py.File(f'{os.path.dirname(os.getcwd())}/data/raw/data_pub_h10.h5', 'a')"
   ]
  },
  {
   "cell_type": "code",
   "execution_count": null,
   "metadata": {},
   "outputs": [],
   "source": [
    "ref_energies"
   ]
  },
  {
   "cell_type": "code",
   "execution_count": null,
   "metadata": {},
   "outputs": [],
   "source": [
    "distances = np.array([1.2,1.4,1.6,1.8,2.0,2.4,2.8,3.2,3.6])\n",
    "systems = [f'H10_d{di}' for di in distances]\n",
    "ref_energies = np.array([f[system].attrs['ref_energy']for system in systems])\n",
    "width = 3.63\n",
    "fig = plt.figure(figsize= (width, width))\n",
    "spec = gridspec.GridSpec(ncols=1, nrows=2, height_ratios=[2,1])\n",
    "ax2 = fig.add_subplot(spec[0])\n",
    "ax1 = fig.add_subplot(spec[1])\n",
    "\n",
    "ax1.plot(distances, ref_energies[:,0],ls='--',color='r',label='RHF')\n",
    "ax1.plot(distances, ref_energies[:,1],ls='--',color='k',label='MRCI+Q-F12',zorder=10)\n",
    "ax1.plot([1.2,1.2], [0,0],ls='',label=' ')\n",
    "\n",
    "for i,ansatz in enumerate(['SD-SJ','SD-SJBF','MD-SJBF']):\n",
    "    data = np.array([f[system][ansatz].attrs['energy'] for system in systems])\n",
    "    ax1.errorbar(distances,data[:,0],data[:,1],label=ansatz,ls=[':','-.','-'][i],fillstyle=['none','full','full'][i],marker='o',ms='4',color='C0')\n",
    "ax1.set_ylim(-5.75,-4.75)\n",
    "ax1.set_yticks([-5.5,-5.])\n",
    "ax1.set_yticks(np.arange(-5.7,-4.7,0.1),minor=True)\n",
    "ax1.set_xticks([1.2,1.6,2.0,2.4,2.8,3.2,3.6])\n",
    "ax1.set_ylabel('total energy [a.u.]',labelpad=5)\n",
    "ax1.set_xlabel('H–H distance [a.u.]')\n",
    "ax1.legend(loc='center',bbox_to_anchor=(0.5,3.5),ncol=2)\n",
    "ax1.grid(axis='y',which='both',ls=':',color='grey')\n",
    "\n",
    "\n",
    "for i,ansatz in enumerate(['SD-SJ','SD-SJBF','MD-SJBF']): #TODO add data to data_pub_h10.h5\n",
    "    data = np.array([f[system][ansatz].attrs['energy'] for system in systems])\n",
    "    data_corr = np.array([[to_corr(ei[0],ei_ref),to_corr_error(ei[1],ei_ref)] for ei,ei_ref in zip(data,ref_energies)])\n",
    "    ax2.errorbar(distances,1-data_corr[:,0],data_corr[:,1],ls=[':','-.','-'][i],fillstyle=['none','full','full'][i],marker='o',ms='4',color='C0')\n",
    "\n",
    "ax2.grid(axis='y',ls=':',color='grey')\n",
    "\n",
    "ax2.set_ylabel('correlation energy',labelpad=7)\n",
    "ax2.tick_params(axis='x',which='both',bottom=False) \n",
    "ax2.set_yscale('log')\n",
    "ax2.set_ylim(0.2,0.008)\n",
    "ax2.set_yticks([1e-1, 1e-2])\n",
    "ax2.set_yticklabels(['90%', '99%'])\n",
    "fig.subplots_adjust(hspace = 0.05 )\n",
    "#plt.savefig(\"h10-dis-curve.pdf\",bbox_inches='tight')"
   ]
  },
  {
   "cell_type": "code",
   "execution_count": null,
   "metadata": {},
   "outputs": [],
   "source": []
  }
 ],
 "metadata": {
  "kernelspec": {
   "display_name": "deepqmc",
   "language": "python",
   "name": "deepqmc"
  },
  "language_info": {
   "codemirror_mode": {
    "name": "ipython",
    "version": 3
   },
   "file_extension": ".py",
   "mimetype": "text/x-python",
   "name": "python",
   "nbconvert_exporter": "python",
   "pygments_lexer": "ipython3",
   "version": "3.7.1"
  }
 },
 "nbformat": 4,
 "nbformat_minor": 2
}
