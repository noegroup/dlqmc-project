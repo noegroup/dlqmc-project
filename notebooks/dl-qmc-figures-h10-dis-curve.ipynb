{
 "cells": [
  {
   "cell_type": "code",
   "execution_count": 3,
   "metadata": {
    "ExecuteTime": {
     "end_time": "2020-06-09T20:30:30.473237Z",
     "start_time": "2020-06-09T20:30:30.464332Z"
    }
   },
   "outputs": [],
   "source": [
    "import os\n",
    "import h5py\n",
    "import numpy as np\n",
    "import matplotlib.pyplot as plt\n",
    "import matplotlib as mpl\n",
    "mpl.rc('font', family='serif', serif='STIXGeneral', size=10)\n",
    "\n",
    "def to_corr(x, ref):\n",
    "    return (ref[0] - x) / (ref[0] - ref[1])\n",
    "def to_corr_error(x, ref):\n",
    "    return x / (ref[0] - ref[1])"
   ]
  },
  {
   "cell_type": "code",
   "execution_count": 4,
   "metadata": {
    "ExecuteTime": {
     "end_time": "2020-06-09T20:30:30.973361Z",
     "start_time": "2020-06-09T20:30:30.967110Z"
    }
   },
   "outputs": [],
   "source": [
    "f = h5py.File(f'{os.path.dirname(os.getcwd())}/data/raw/data_pub_h10.h5', 'a')"
   ]
  },
  {
   "cell_type": "code",
   "execution_count": 20,
   "metadata": {
    "ExecuteTime": {
     "end_time": "2020-06-09T20:49:23.732642Z",
     "start_time": "2020-06-09T20:49:23.479721Z"
    }
   },
   "outputs": [
    {
     "data": {
      "image/png": "[encoded data removed]",
      "text/plain": [
       "<Figure size 261.36x196.02 with 1 Axes>"
      ]
     },
     "metadata": {
      "needs_background": "light"
     },
     "output_type": "display_data"
    }
   ],
   "source": [
    "distances = np.array([1.2,1.4,1.6,1.8,2.0,2.4,2.8,3.2,3.6])\n",
    "systems = [f'H10_d{di}' for di in distances]\n",
    "ref_energies = np.array([f[system].attrs['ref_energy']for system in systems])\n",
    "width = 3.63\n",
    "fig, ax = plt.subplots(figsize= (width, width * 3/4))\n",
    "for i in [0.01,0.1]:\n",
    "    plt.axhline(i,ls=':',color='grey')\n",
    "\n",
    "for i,ansatz in enumerate(['SD-SJ','SD-SJBF']):# 'MD-SJBF' #TODO add data to data_pub_h10.h5\n",
    "    data = np.array([f[system][ansatz].attrs['energy'] for system in systems])\n",
    "    data_corr = np.array([[to_corr(ei[0],ei_ref),to_corr_error(ei[1],ei_ref)] for ei,ei_ref in zip(data,ref_energies)])\n",
    "    ax.errorbar(distances,1-data_corr[:,0],data_corr[:,1],label=ansatz,ls=[':','-.','-'][i],fillstyle=['none','full','full'][i],marker='o',ms='4',color='C0')\n",
    "\n",
    "ax.legend(loc='center',bbox_to_anchor=(0.43,1.12),ncol=3)\n",
    "ax.set_ylabel('correlation energy',labelpad=7)\n",
    "ax.set_xlabel('H–H distance [a.u.]')\n",
    "ax.set_xticks([1.2,1.6,2.0,2.4,2.8,3.2,3.6])\n",
    "ax.set_yscale('log')\n",
    "ax.set_ylim(0.2,0.008)\n",
    "ax.set_yticks([1e-1, 1e-2])\n",
    "ax.set_yticklabels(['90%', '99%'])\n",
    "fig.subplots_adjust(hspace = 0.001 )\n",
    "#plt.savefig(\"h10-dis-curve.pdf\",bbox_inches='tight')"
   ]
  },
  {
   "cell_type": "code",
   "execution_count": null,
   "metadata": {},
   "outputs": [],
   "source": []
  }
 ],
 "metadata": {
  "kernelspec": {
   "display_name": "deepqmc",
   "language": "python",
   "name": "deepqmc"
  },
  "language_info": {
   "codemirror_mode": {
    "name": "ipython",
    "version": 3
   },
   "file_extension": ".py",
   "mimetype": "text/x-python",
   "name": "python",
   "nbconvert_exporter": "python",
   "pygments_lexer": "ipython3",
   "version": "3.7.1"
  }
 },
 "nbformat": 4,
 "nbformat_minor": 2
}
