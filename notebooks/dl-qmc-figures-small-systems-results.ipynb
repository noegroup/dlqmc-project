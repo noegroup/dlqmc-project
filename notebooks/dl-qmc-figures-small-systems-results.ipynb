{
 "cells": [
  {
   "cell_type": "code",
   "execution_count": null,
   "metadata": {},
   "outputs": [],
   "source": [
    "import torch\n",
    "import numpy as np\n",
    "import pandas as pd\n",
    "import h5py\n",
    "import matplotlib.pyplot as plt\n",
    "from itertools import product\n",
    "import matplotlib as mpl\n",
    "\n",
    "def to_corr(x, ref):\n",
    "    return (ref[0] - x) / (ref[0] - ref[1])\n",
    "def to_corr_error(x, ref):\n",
    "    return x / (ref[0] - ref[1])\n",
    "\n",
    "colors = plt.get_cmap('tab20')"
   ]
  },
  {
   "cell_type": "code",
   "execution_count": null,
   "metadata": {},
   "outputs": [],
   "source": [
    "mpl.rcParams['figure.dpi'] = 150\n",
    "mpl.rc('font', family='serif', serif='STIXGeneral', size=9)\n",
    "mpl.rc('mathtext', fontset='stix')\n",
    "COLORS = plt.rcParams['axes.prop_cycle'].by_key()['color']"
   ]
  },
  {
   "cell_type": "code",
   "execution_count": null,
   "metadata": {},
   "outputs": [],
   "source": [
    "def get_ref(references,ref,system):\n",
    "    data = []\n",
    "    for ansatz in ['SD-SJ','SD-SJBF','MD-SJ','MD-SJBF']:\n",
    "        try:\n",
    "            ref_i = references.loc(0)[ref].loc(0)[system].loc(0)\n",
    "            if ansatz in ['SD-SJ','SD-SJBF'] and not np.isnan(ref_i[f\"{ansatz} energy\"]):\n",
    "                data.append((100-100*to_corr(ref_i[f\"{ansatz} energy\"],refs_exact.loc(0)[system]),100*to_corr_error(ref_i[f\"{ansatz} error\"],refs_exact.loc(0)[system]),1))\n",
    "            else:\n",
    "                data.append((100-100*to_corr(ref_i[f\"{ansatz} energy\"],refs_exact.loc(0)[system]),100*to_corr_error(ref_i[f\"{ansatz} error\"],refs_exact.loc(0)[system]),ref_i[f\"{ansatz} nCSF\"]))\n",
    "        except:\n",
    "            data.append((float('NaN'),float('NaN'),float('NaN')))\n",
    "    return np.array(data)"
   ]
  },
  {
   "cell_type": "code",
   "execution_count": null,
   "metadata": {},
   "outputs": [],
   "source": [
    "refs_qmc = pd.read_csv('../data/extern/small-systems-vmc.csv').set_index(['reference','system'])\n",
    "refs_exact =  pd.read_csv('/home/mi/zenoone/Dokumente/dlqmc-pub/dlqmc-project/data/extern/small-systems-exact.csv').set_index(['system'])\n",
    "systems = ['H2', 'LiH', 'Li2', 'Be', 'B', 'C']\n",
    "with h5py.File(f'../data/raw/data_pub_small_systems.h5', 'a') as f:\n",
    "    data_paulinet=np.array([[(100-100*to_corr(f[system][ansatz].attrs['energy'][0],refs_exact.loc(0)[system]),100*to_corr_error(f[system][ansatz].attrs['energy'][1],refs_exact.loc(0)[system]))for ansatz in ['SD-SJ','SD-SJBF','MD-SJ','MD-SJBF']] for system in systems])"
   ]
  },
  {
   "cell_type": "code",
   "execution_count": null,
   "metadata": {},
   "outputs": [],
   "source": [
    "label_reposition = np.ones([6,6,4,2]) # H2 LiH Li2 Be B C / ref / ansatz\n",
    "label_reposition[[2,2,3,4,4,5,5,5,5,5,5,5],[5,2,0,2,5,5,3,0,5,3,0,2],[0,2,3,2,2,0,0,0,2,1,1,2]]=np.array([[1,0.85],[0.25,1],[1,1.2],[0.25,1],[1,1.2],[1.1,1],[1,1.25],[1.1,1.2],[1.3,1.],[1.,0.9],[1.,0.9],[0.25,1]])\n",
    "width= 7.18\n",
    "fig, axs = plt.subplots(1, 6, sharex='all', figsize= (width,width*5/8))\n",
    "for s,(system,axi) in enumerate(zip(systems,axs)):\n",
    "    axi.set_title(system)\n",
    "    for j,ref in enumerate(['Brown', 'Casalengo', 'Morales', 'Rios', 'Seth', 'Toulouse']): \n",
    "        dj = get_ref(refs_qmc,ref,system)\n",
    "        for k,l in product(range(2),range(2)):\n",
    "            axi.errorbar(dj[k+2*l,2],dj[k+2*l,0],dj[k+2*l,1],fillstyle=['none','full'][k],ls='',marker=['o','^'][l],c=f\"C1\",ms=6)\n",
    "        for i,(y,_,x) in enumerate(dj):\n",
    "            axi.annotate(j+1,(x*1.5,y*1.05)*label_reposition[s,j,i])\n",
    "    ds = data_paulinet[s]\n",
    "    for k in range(2):\n",
    "        axi.errorbar([1,1,6,6][k::2],ds[k::2,0].clip(0.05),ds[k::2,1],label=('Slater Jastrow','Slater Jastrow Backflow')[k],ls='',marker='o',fillstyle=['none','full'][k],ms=7,color=f\"C0\", clip_on=False)\n",
    "    for i,p in enumerate(ds[:,0]):\n",
    "        if p < 0.05:\n",
    "            axi.annotate(\"\",xy=([1,6][i//2], 0.05), xycoords='data',xytext=([1,6][i//2], 0.03), textcoords='data',arrowprops=dict(arrowstyle=\"<-\"),annotation_clip=False,)\n",
    "    axi.set_yscale('log')\n",
    "    axi.set_xscale('log')\n",
    "    for i in [0.1,1,10]:\n",
    "        axi.axhline(i,ls=':',color='grey')\n",
    "    if s==0:\n",
    "        axi.set_yticks([0.1,1,10])\n",
    "        axi.set_yticklabels(['99.9%','99%','90%'])\n",
    "    else:\n",
    "        axi.set_yticks([])  \n",
    "        axi.tick_params(axis='y', which='both', length=0)\n",
    "    axi.set_xticks([1,10,100])\n",
    "    axi.set_ylim(60,0.05)\n",
    "fig.tight_layout()\n",
    "fig.text(0.535, 0.0,'number of determinants/CSFs', ha='center', va='center')\n",
    "fig.text(0.0, 0.55,  'correlation energy', ha='center', va='center', rotation='vertical')\n",
    "fig.subplots_adjust(wspace = 0.1, hspace = 0 )"
   ]
  },
  {
   "cell_type": "code",
   "execution_count": null,
   "metadata": {},
   "outputs": [],
   "source": []
  }
 ],
 "metadata": {
  "kernelspec": {
   "language": "python"
  },
  "language_info": {
   "codemirror_mode": {
    "name": "ipython",
    "version": 3
   },
   "file_extension": ".py",
   "mimetype": "text/x-python",
   "name": "python",
   "nbconvert_exporter": "python",
   "pygments_lexer": "ipython3"
  }
 },
 "nbformat": 4,
 "nbformat_minor": 2
}
