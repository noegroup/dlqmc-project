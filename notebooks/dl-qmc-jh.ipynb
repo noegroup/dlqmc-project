{
 "cells": [
  {
   "cell_type": "markdown",
   "metadata": {},
   "source": [
    "# DL-QMC jh"
   ]
  },
  {
   "cell_type": "code",
   "execution_count": null,
   "metadata": {},
   "outputs": [],
   "source": [
    "%load_ext autoreload\n",
    "%autoreload 2"
   ]
  },
  {
   "cell_type": "code",
   "execution_count": null,
   "metadata": {},
   "outputs": [],
   "source": [
    "from functools import partial\n",
    "\n",
    "import matplotlib as mpl\n",
    "import matplotlib.pyplot as plt\n",
    "import numpy as np\n",
    "import torch\n",
    "from pyscf import gto, scf\n",
    "from tensorboardX import SummaryWriter\n",
    "from torch import nn\n",
    "from tqdm.auto import tqdm, trange\n",
    "\n",
    "from deepqmc.analysis import autocorr_coeff, blocking, pair_correlations_from_samples\n",
    "from deepqmc.fit import (\n",
    "    fit_wfnet,\n",
    "    fit_wfnet_multi,\n",
    "    loss_local_energy,\n",
    "    wfnet_fit_driver,\n",
    "    wfnet_fit_driver_simple,\n",
    ")\n",
    "from deepqmc.geom import geomdb\n",
    "from deepqmc.nn import (\n",
    "    SSP,\n",
    "    DistanceBasis,\n",
    "    GTOBasis,\n",
    "    GTOShell,\n",
    "    HanNet,\n",
    "    HFNet,\n",
    "    WFNet,\n",
    "    get_custom_dnn,\n",
    "    get_log_dnn,\n",
    "    pairwise_diffs,\n",
    "    pairwise_distance,\n",
    "    pairwise_self_distance,\n",
    ")\n",
    "from deepqmc.physics import local_energy\n",
    "from deepqmc.pyscfext import electron_density_of\n",
    "from deepqmc.sampling import langevin_monte_carlo, samples_from\n",
    "from deepqmc.stats import GaussianKDEstimator\n",
    "from deepqmc.utils import (\n",
    "    DebugContainer,\n",
    "    batch_eval_tuple,\n",
    "    number_of_parameters,\n",
    "    plot_func,\n",
    "    plot_func_x,\n",
    "    plot_func_xy,\n",
    "    shuffle_tensor,\n",
    ")"
   ]
  },
  {
   "cell_type": "code",
   "execution_count": null,
   "metadata": {},
   "outputs": [],
   "source": [
    "# needs to be in a separate cell, see https://github.com/ipython/ipython/issues/11098\n",
    "mpl.rcParams['figure.dpi'] = 100"
   ]
  },
  {
   "cell_type": "markdown",
   "metadata": {},
   "source": [
    "## H2+"
   ]
  },
  {
   "cell_type": "markdown",
   "metadata": {},
   "source": [
    "### GTO WF"
   ]
  },
  {
   "cell_type": "code",
   "execution_count": null,
   "metadata": {},
   "outputs": [],
   "source": [
    "mol = gto.M(\n",
    "    atom=geomdb['H2+'].as_pyscf(),\n",
    "    unit='bohr',\n",
    "    basis='cc-pv5z',\n",
    "    cart=True,\n",
    "    charge=1,\n",
    "    spin=1,\n",
    ")\n",
    "mf = scf.RHF(mol)\n",
    "scf_energy_big = mf.kernel()\n",
    "gtowf_big = HFNet.from_pyscf(mf, cusp_correction=False).cuda()"
   ]
  },
  {
   "cell_type": "code",
   "execution_count": null,
   "metadata": {},
   "outputs": [],
   "source": [
    "mol = gto.M(\n",
    "    atom=geomdb['H2+'].as_pyscf(),\n",
    "    unit='bohr',\n",
    "    basis='6-311g',\n",
    "    cart=True,\n",
    "    charge=1,\n",
    "    spin=1,\n",
    ")\n",
    "mf = scf.RHF(mol)\n",
    "scf_energy = mf.kernel()\n",
    "gtowf = HFNet.from_pyscf(mf, cusp_correction=False).cuda()"
   ]
  },
  {
   "cell_type": "code",
   "execution_count": null,
   "metadata": {},
   "outputs": [],
   "source": [
    "plot_func_x(lambda x: gtowf.basis(pairwise_diffs(x, gtowf.coords)), [-7, 7], device='cuda')\n",
    "plt.ylim(-1, 1)"
   ]
  },
  {
   "cell_type": "code",
   "execution_count": null,
   "metadata": {},
   "outputs": [],
   "source": [
    "plot_func_x(lambda x: gtowf_big.basis(pairwise_diffs(x, gtowf_big.coords)), [-7, 7], device='cuda')\n",
    "plt.ylim(-1, 1)"
   ]
  },
  {
   "cell_type": "code",
   "execution_count": null,
   "metadata": {},
   "outputs": [],
   "source": [
    "plot_func_x(gtowf_big.orbitals, [-7, 7], device='cuda')\n",
    "plot_func_x(gtowf.orbitals, [-7, 7], device='cuda')"
   ]
  },
  {
   "cell_type": "code",
   "execution_count": null,
   "metadata": {},
   "outputs": [],
   "source": [
    "plot_func_x(lambda x: local_energy(x[:, None], gtowf_big)[0], [-3, 3], device='cuda')\n",
    "plot_func_x(lambda x: local_energy(x[:, None], gtowf)[0], [-3, 3], device='cuda')\n",
    "plt.ylim((-10, 0))"
   ]
  },
  {
   "cell_type": "code",
   "execution_count": null,
   "metadata": {},
   "outputs": [],
   "source": [
    "n_walker = 1_000\n",
    "sampler = langevin_monte_carlo(gtowf, torch.randn(n_walker, 1, 3).cuda(), tau=0.1)\n",
    "rs, psis, info = samples_from(sampler, trange(500))\n",
    "E_loc = local_energy(rs.flatten(end_dim=1), gtowf)[0].view(n_walker, -1)\n",
    "info.acceptance.mean()"
   ]
  },
  {
   "cell_type": "code",
   "execution_count": null,
   "metadata": {},
   "outputs": [],
   "source": [
    "plt.plot(*rs[0][:50, 0, :2].cpu().numpy().T)\n",
    "plt.gca().set_aspect(1)"
   ]
  },
  {
   "cell_type": "code",
   "execution_count": null,
   "metadata": {},
   "outputs": [],
   "source": [
    "plt.plot(E_loc.mean(dim=0).cpu().numpy())\n",
    "plt.ylim(-0.7, -0.5)"
   ]
  },
  {
   "cell_type": "code",
   "execution_count": null,
   "metadata": {},
   "outputs": [],
   "source": [
    "plt.hist2d(\n",
    "    *rs[:, 50:].flatten(end_dim=1)[:, 0, :2].cpu().numpy().T,\n",
    "    bins=100,\n",
    "    range=[[-3, 3], [-3, 3]],\n",
    ")\n",
    "plt.gca().set_aspect(1)"
   ]
  },
  {
   "cell_type": "code",
   "execution_count": null,
   "metadata": {},
   "outputs": [],
   "source": [
    "_ = plt.hist(E_loc[:, 50:].flatten().clamp(-1.25, 0).cpu().numpy(), bins=100)"
   ]
  },
  {
   "cell_type": "code",
   "execution_count": null,
   "metadata": {},
   "outputs": [],
   "source": [
    "E_loc[:, 50:].std()"
   ]
  },
  {
   "cell_type": "code",
   "execution_count": null,
   "metadata": {},
   "outputs": [],
   "source": [
    "scf_energy, E_loc[:, 50:].mean().item(), (\n",
    "    E_loc[:, 50:].mean(dim=1).std() / np.sqrt(E_loc.shape[0])\n",
    ").item()"
   ]
  },
  {
   "cell_type": "code",
   "execution_count": null,
   "metadata": {},
   "outputs": [],
   "source": [
    "plt.plot(blocking(E_loc[:, 50:]).cpu().numpy())"
   ]
  },
  {
   "cell_type": "code",
   "execution_count": null,
   "metadata": {},
   "outputs": [],
   "source": [
    "plt.plot(autocorr_coeff(range(50), E_loc[:, 50:]).cpu().numpy())\n",
    "plt.axhline()"
   ]
  },
  {
   "cell_type": "code",
   "execution_count": null,
   "metadata": {},
   "outputs": [],
   "source": [
    "n_walker = 1_000\n",
    "sampler = langevin_monte_carlo(gtowf_big, torch.randn(n_walker, 1, 3).cuda(), tau=0.1)\n",
    "rs, psis, info = samples_from(sampler, trange(500))\n",
    "E_loc = batch_eval_tuple(\n",
    "    local_energy, tqdm(rs.flatten(end_dim=1).split(50_000)), gtowf_big\n",
    ")[0].view(n_walker, -1)\n",
    "info.acceptance.mean()"
   ]
  },
  {
   "cell_type": "code",
   "execution_count": null,
   "metadata": {},
   "outputs": [],
   "source": [
    "plt.plot(E_loc.mean(dim=0).cpu().numpy())\n",
    "plt.ylim(-0.7, -0.5)"
   ]
  },
  {
   "cell_type": "code",
   "execution_count": null,
   "metadata": {},
   "outputs": [],
   "source": [
    "plt.hist2d(\n",
    "    *rs[:, 50:].flatten(end_dim=1)[:, 0, :2].cpu().numpy().T,\n",
    "    bins=100,\n",
    "    range=[[-3, 3], [-3, 3]],\n",
    ")\n",
    "plt.gca().set_aspect(1)"
   ]
  },
  {
   "cell_type": "code",
   "execution_count": null,
   "metadata": {},
   "outputs": [],
   "source": [
    "_ = plt.hist(E_loc[:, 50:].flatten().clamp(-1.25, 0).cpu().numpy(), bins=100)"
   ]
  },
  {
   "cell_type": "code",
   "execution_count": null,
   "metadata": {},
   "outputs": [],
   "source": [
    "E_loc[:, 50:].std()"
   ]
  },
  {
   "cell_type": "code",
   "execution_count": null,
   "metadata": {},
   "outputs": [],
   "source": [
    "(\n",
    "    scf_energy_big,\n",
    "    E_loc[:, 50:].mean().item(),\n",
    "    (E_loc[:, 50:].mean(dim=1).std() / np.sqrt(E_loc.shape[0])).item(),\n",
    ")"
   ]
  },
  {
   "cell_type": "code",
   "execution_count": null,
   "metadata": {},
   "outputs": [],
   "source": [
    "plt.plot(blocking(E_loc[:, 50:]).numpy())"
   ]
  },
  {
   "cell_type": "code",
   "execution_count": null,
   "metadata": {},
   "outputs": [],
   "source": [
    "plt.plot(autocorr_coeff(range(50), E_loc[:, 50:]).numpy())\n",
    "plt.axhline()"
   ]
  },
  {
   "cell_type": "markdown",
   "metadata": {},
   "source": [
    "### DL WFs"
   ]
  },
  {
   "cell_type": "code",
   "execution_count": null,
   "metadata": {},
   "outputs": [],
   "source": [
    "class AsympNet(BaseWFNet):\n",
    "    def __init__(self, geom, ion_pot=0.5):\n",
    "        super().__init__()\n",
    "        self.register_geom(geom)\n",
    "        self.asymp_nuc = NuclearAsymptotic(self.charges, ion_pot)\n",
    "        \n",
    "    def forward(self, rs):\n",
    "        dists_nuc = pairwise_distance(rs, self.coords[None, ...])\n",
    "        asymp_nuc = self.asymp_nuc(dists_nuc)\n",
    "        return asymp_nuc"
   ]
  },
  {
   "cell_type": "code",
   "execution_count": null,
   "metadata": {},
   "outputs": [],
   "source": [
    "fix, axes = plt.subplots(2, 1)\n",
    "_ = plot_func(DistanceBasis(32), [0, 11], ax=axes[0])\n",
    "_ = plot_func(DistanceBasis(32, envelope='nocusp'), [0, 11], ax=axes[1])"
   ]
  },
  {
   "cell_type": "code",
   "execution_count": null,
   "metadata": {},
   "outputs": [],
   "source": [
    "mol = gto.M(\n",
    "    atom=geomdb['H2+'].as_pyscf(),\n",
    "    unit='bohr',\n",
    "    basis='6-311g',\n",
    "    cart=True,\n",
    "    charge=1,\n",
    "    spin=1,\n",
    ")\n",
    "mf = scf.RHF(mol)\n",
    "mf.kernel()\n",
    "gtowf = HFNet.from_pyscf(mf, cusp_correction=False).cuda()\n",
    "gtowf_cusp = HFNet.from_pyscf(mf).cuda()\n",
    "wfnet = WFNet(geomdb['H2+'], 1, n_orbital_layers=4, ion_pot=0.7).cuda()\n",
    "asympnet = AsympNet(geomdb['H2+'], ion_pot=0.7).cuda()\n",
    "\n",
    "class Orbnet(nn.Module):\n",
    "    def __init__(self, features_in, n_orbitals):\n",
    "        super().__init__()\n",
    "        self.net = get_log_dnn(\n",
    "            features_in, n_orbitals, SSP, n_layers=4, last_bias=False\n",
    "        )\n",
    "\n",
    "    def forward(self, mos, xs):\n",
    "        return mos * torch.exp(self.net(xs.flatten(start_dim=1)))\n",
    "        \n",
    "\n",
    "hfnet = HFNet.from_pyscf(mf, orbnet_factory=Orbnet).cuda()\n",
    "hfnet.mo_coeff.weight.requires_grad_(False);"
   ]
  },
  {
   "cell_type": "code",
   "execution_count": null,
   "metadata": {},
   "outputs": [],
   "source": [
    "gtowf"
   ]
  },
  {
   "cell_type": "code",
   "execution_count": null,
   "metadata": {},
   "outputs": [],
   "source": [
    "gtowf_cusp"
   ]
  },
  {
   "cell_type": "code",
   "execution_count": null,
   "metadata": {},
   "outputs": [],
   "source": [
    "wfnet"
   ]
  },
  {
   "cell_type": "code",
   "execution_count": null,
   "metadata": {},
   "outputs": [],
   "source": [
    "hfnet"
   ]
  },
  {
   "cell_type": "code",
   "execution_count": null,
   "metadata": {},
   "outputs": [],
   "source": [
    "bounds = [-2, 2]\n",
    "plot_func_x(gtowf.orbitals, bounds, device='cuda', density=0.002, label='GTO')\n",
    "plot_func_x(gtowf_cusp.orbitals, bounds, device='cuda', density=0.002, label='GTO w/ cusp')\n",
    "plot_func_x(lambda x: 0.4*wfnet.debug('asymp_nuc', x[:, None]), bounds, device='cuda', label='asymptotics')\n",
    "plt.legend(loc='lower center', bbox_to_anchor=(0.5, -0.35), ncol=2)\n",
    "plt.yscale('log')\n",
    "plt.ylim(0.25, None)"
   ]
  },
  {
   "cell_type": "code",
   "execution_count": null,
   "metadata": {},
   "outputs": [],
   "source": [
    "bounds = [-5, 5]\n",
    "plot_func_x(lambda x: local_energy(x[:, None], gtowf)[0], bounds, device='cuda', density=0.002, label='GTO')\n",
    "plot_func_x(lambda x: local_energy(x[:, None], gtowf_cusp)[0], bounds, device='cuda', density=0.002, label='GTO w/ cusp')\n",
    "plot_func_x(lambda x: local_energy(x[:, None], asympnet)[0], bounds, device='cuda', density=0.002, label='asymptotics')\n",
    "plt.legend(loc='lower center', bbox_to_anchor=(0.5, -0.35), ncol=2)\n",
    "plt.ylim((-2, 0))"
   ]
  },
  {
   "cell_type": "code",
   "execution_count": null,
   "metadata": {},
   "outputs": [],
   "source": [
    "sampler = langevin_monte_carlo(wfnet, torch.randn(1_000, 1, 3, device='cuda'), tau=0.1)\n",
    "for _ in range(50):\n",
    "    next(sampler)\n",
    "with SummaryWriter('runs/H2+/wfnet/11') as writer:\n",
    "    fit_wfnet(\n",
    "        wfnet,\n",
    "        loss_local_energy,\n",
    "        torch.optim.Adam(wfnet.parameters(), lr=3e-3),\n",
    "        wfnet_fit_driver_simple(sampler, n_sampling_steps=1, samplings=trange(2000)),\n",
    "        writer=writer,\n",
    "    )"
   ]
  },
  {
   "cell_type": "code",
   "execution_count": null,
   "metadata": {},
   "outputs": [],
   "source": [
    "plot_func_x(lambda x: local_energy(x[:, None], wfnet)[0], [-15, 15], device='cuda')\n",
    "plt.ylim((-1, 0))"
   ]
  },
  {
   "cell_type": "code",
   "execution_count": null,
   "metadata": {},
   "outputs": [],
   "source": [
    "plot_func_xy(\n",
    "    lambda x: wfnet.debug('jastrow', x[:, None]), [[-10, 10], [-10, 10]], device='cuda'\n",
    ")"
   ]
  },
  {
   "cell_type": "code",
   "execution_count": null,
   "metadata": {},
   "outputs": [],
   "source": [
    "n_walker = 1_000\n",
    "sampler = langevin_monte_carlo(\n",
    "    wfnet, torch.randn(n_walker, 1, 3, device='cuda'), tau=0.1\n",
    ")\n",
    "rs, _, info = samples_from(sampler, trange(500))\n",
    "E_loc = local_energy(rs.flatten(end_dim=1), wfnet)[0].view(n_walker, -1)\n",
    "info.acceptance.mean()"
   ]
  },
  {
   "cell_type": "code",
   "execution_count": null,
   "metadata": {},
   "outputs": [],
   "source": [
    "plt.plot(E_loc.mean(dim=0).cpu().numpy())\n",
    "plt.ylim(-0.7, -0.5)"
   ]
  },
  {
   "cell_type": "code",
   "execution_count": null,
   "metadata": {},
   "outputs": [],
   "source": [
    "plt.hist(E_loc[:, 50:].flatten().clamp(-1.25, 0).cpu().numpy(), bins=100)\n",
    "plt.xlim(-1.25, 0)"
   ]
  },
  {
   "cell_type": "code",
   "execution_count": null,
   "metadata": {},
   "outputs": [],
   "source": [
    "E_loc[:, 50:].std()"
   ]
  },
  {
   "cell_type": "code",
   "execution_count": null,
   "metadata": {},
   "outputs": [],
   "source": [
    "scf_energy_big, E_loc[:, 50:].mean().item(), (\n",
    "    E_loc[:, 50:].mean(dim=1).std() / np.sqrt(E_loc.shape[0])\n",
    ").item()"
   ]
  },
  {
   "cell_type": "code",
   "execution_count": null,
   "metadata": {},
   "outputs": [],
   "source": [
    "bounds = [-2, 2]\n",
    "plot_func_x(\n",
    "    lambda x: torch.log(gtowf_big.float()(x[:, None])),\n",
    "    bounds,\n",
    "    device='cuda',\n",
    "    label='~exact WF',\n",
    ")\n",
    "plot_func_x(\n",
    "    lambda x: torch.log(gtowf(x[:, None])),\n",
    "    bounds,\n",
    "    device='cuda',\n",
    "    label='small-basis WF',\n",
    ")\n",
    "plot_func_x(\n",
    "    lambda x: torch.log(wfnet(x[:, None])) - 0.2, bounds, device='cuda', label='DL WF'\n",
    ")\n",
    "plot_func_x(\n",
    "    lambda x: torch.log(wfnet.debug('asymp_nuc', x[:, None])) - 0.89,\n",
    "    bounds,\n",
    "    device='cuda',\n",
    "    label='asymptotics',\n",
    ")\n",
    "plot_func_x(\n",
    "    lambda x: wfnet.debug('jastrow', x[:, None]) - 0.2,\n",
    "    bounds,\n",
    "    device='cuda',\n",
    "    label='NN',\n",
    ")\n",
    "plt.legend(loc='lower center', bbox_to_anchor=(0.5, -0.35), ncol=2)\n",
    "plt.ylim(-1.5, None)"
   ]
  },
  {
   "cell_type": "code",
   "execution_count": null,
   "metadata": {},
   "outputs": [],
   "source": [
    "mol = gto.M(\n",
    "    atom=geomdb['H2+'].as_pyscf(),\n",
    "    unit='bohr',\n",
    "    basis='6-311g',\n",
    "    cart=True,\n",
    "    charge=1,\n",
    "    spin=1,\n",
    ")\n",
    "mf = scf.RHF(mol)\n",
    "mf.kernel()\n",
    "gtowf = HFNet.from_pyscf(mf, cusp_correction=False).cuda()\n",
    "gtowf_cusp = HFNet.from_pyscf(mf).cuda()\n",
    "\n",
    "class Orbnet(nn.Module):\n",
    "    def __init__(self, features_in, n_orbitals):\n",
    "        super().__init__()\n",
    "        self.net = get_log_dnn(\n",
    "            features_in, n_orbitals, SSP, n_layers=4, last_bias=False\n",
    "        )\n",
    "\n",
    "    def forward(self, mos, xs):\n",
    "        return mos * torch.exp(self.net(xs.flatten(start_dim=1)))\n",
    "        \n",
    "\n",
    "hfnet = HFNet.from_pyscf(mf, orbnet_factory=Orbnet).cuda()\n",
    "hfnet.mo_coeff.weight.requires_grad_(False);"
   ]
  },
  {
   "cell_type": "code",
   "execution_count": null,
   "metadata": {},
   "outputs": [],
   "source": [
    "bounds = [-.5, 2]\n",
    "plot_func_x(gtowf.orbitals, bounds, device='cuda', density=0.002)\n",
    "plot_func_x(gtowf_cusp.orbitals, bounds, device='cuda', density=0.002)\n",
    "plot_func_x(hfnet.orbitals, bounds, device='cuda', density=0.002)"
   ]
  },
  {
   "cell_type": "code",
   "execution_count": null,
   "metadata": {},
   "outputs": [],
   "source": [
    "bounds = [-15, 15]\n",
    "plot_func_x(lambda x: local_energy(x[:, None], gtowf)[0], bounds, device='cuda', density=0.002)\n",
    "plot_func_x(lambda x: local_energy(x[:, None], gtowf_cusp)[0], bounds, device='cuda', density=0.002)\n",
    "plot_func_x(lambda x: local_energy(x[:, None], hfnet)[0], bounds, device='cuda', density=0.002)\n",
    "plt.ylim((-2, 0))"
   ]
  },
  {
   "cell_type": "code",
   "execution_count": null,
   "metadata": {},
   "outputs": [],
   "source": [
    "bounds = [-3, 3]\n",
    "plot_func_x(lambda x: local_energy(x[:, None], gtowf)[0], bounds, device='cuda', density=0.002)\n",
    "plot_func_x(lambda x: local_energy(x[:, None], gtowf_cusp)[0], bounds, device='cuda', density=0.002)\n",
    "plot_func_x(lambda x: local_energy(x[:, None], hfnet)[0], bounds, device='cuda', density=0.002)\n",
    "plt.ylim((-4, 0))"
   ]
  },
  {
   "cell_type": "code",
   "execution_count": null,
   "metadata": {},
   "outputs": [],
   "source": [
    "sampler = langevin_monte_carlo(hfnet, torch.randn(1_000, 1, 3, device='cuda'), tau=0.1)\n",
    "for _ in range(50):\n",
    "    next(sampler)\n",
    "with SummaryWriter('runs/H2+/hfnet/23') as writer:\n",
    "    fit_wfnet(\n",
    "        hfnet,\n",
    "        loss_local_energy,\n",
    "        torch.optim.Adam(hfnet.parameters(), lr=3e-3),\n",
    "        wfnet_fit_driver_simple(sampler, n_sampling_steps=1, samplings=trange(2000)),\n",
    "        writer=writer,\n",
    "    )"
   ]
  },
  {
   "cell_type": "code",
   "execution_count": null,
   "metadata": {},
   "outputs": [],
   "source": [
    "plot_func_x(lambda x: local_energy(x[:, None], hfnet)[0], [-15, 15], device='cuda')\n",
    "plt.ylim((-1, 0))"
   ]
  },
  {
   "cell_type": "code",
   "execution_count": null,
   "metadata": {},
   "outputs": [],
   "source": [
    "n_walker = 1_000\n",
    "sampler = langevin_monte_carlo(\n",
    "    hfnet, torch.randn(n_walker, 1, 3, device='cuda'), tau=0.1\n",
    ")\n",
    "rs, _, info = samples_from(sampler, trange(500))\n",
    "E_loc = local_energy(rs.flatten(end_dim=1), hfnet)[0].view(n_walker, -1)\n",
    "info.acceptance.mean()"
   ]
  },
  {
   "cell_type": "code",
   "execution_count": null,
   "metadata": {},
   "outputs": [],
   "source": [
    "plt.hist(E_loc[:, 50:].flatten().clamp(-1.25, 0).cpu().numpy(), bins=100)\n",
    "plt.xlim(-1.25, 0)"
   ]
  },
  {
   "cell_type": "code",
   "execution_count": null,
   "metadata": {},
   "outputs": [],
   "source": [
    "E_loc[:, 50:].std()"
   ]
  },
  {
   "cell_type": "code",
   "execution_count": null,
   "metadata": {},
   "outputs": [],
   "source": [
    "scf_energy_big, E_loc[:, 50:].mean().item(), (\n",
    "    E_loc[:, 50:].mean(dim=1).std() / np.sqrt(E_loc.shape[0])\n",
    ").item()"
   ]
  },
  {
   "cell_type": "markdown",
   "metadata": {},
   "source": [
    "## H2"
   ]
  },
  {
   "cell_type": "markdown",
   "metadata": {},
   "source": [
    "### GTO WF"
   ]
  },
  {
   "cell_type": "code",
   "execution_count": null,
   "metadata": {},
   "outputs": [],
   "source": [
    "mol = gto.M(\n",
    "    atom=geomdb['H2'].as_pyscf(),\n",
    "    unit='bohr',\n",
    "    basis='cc-pv5z',\n",
    "    charge=0,\n",
    "    spin=0,\n",
    "    cart=True,\n",
    ")\n",
    "mf_big = scf.RHF(mol)\n",
    "mf_big.kernel()"
   ]
  },
  {
   "cell_type": "code",
   "execution_count": null,
   "metadata": {},
   "outputs": [],
   "source": [
    "mol = gto.M(\n",
    "    atom=geomdb['H2'].as_pyscf(),\n",
    "    unit='bohr',\n",
    "    basis='6-311g',\n",
    "    charge=0,\n",
    "    spin=0,\n",
    "    cart=True,\n",
    ")\n",
    "mf = scf.RHF(mol)\n",
    "scf_energy = mf.kernel()\n",
    "gtowf = HFNet.from_pyscf(mf).cuda()"
   ]
  },
  {
   "cell_type": "code",
   "execution_count": null,
   "metadata": {},
   "outputs": [],
   "source": [
    "n_walker = 1_000\n",
    "sampler = langevin_monte_carlo(gtowf, torch.randn(n_walker, 2, 3).cuda(), tau=0.1)\n",
    "rs, _, info = samples_from(sampler, trange(500))\n",
    "E_loc = local_energy(rs.flatten(end_dim=1), gtowf)[0].view(n_walker, -1)\n",
    "info.acceptance.mean()"
   ]
  },
  {
   "cell_type": "code",
   "execution_count": null,
   "metadata": {},
   "outputs": [],
   "source": [
    "plt.plot(E_loc.mean(dim=0).cpu().numpy())\n",
    "plt.ylim(-1.2, -1)"
   ]
  },
  {
   "cell_type": "code",
   "execution_count": null,
   "metadata": {},
   "outputs": [],
   "source": [
    "_ = plt.hist(E_loc[:, 100:].flatten().clamp(-2, 0).cpu().numpy(), bins=100)"
   ]
  },
  {
   "cell_type": "code",
   "execution_count": null,
   "metadata": {},
   "outputs": [],
   "source": [
    "E_loc[:, 100:].std()"
   ]
  },
  {
   "cell_type": "code",
   "execution_count": null,
   "metadata": {},
   "outputs": [],
   "source": [
    "scf_energy, E_loc[:, 100:].mean().item(), (\n",
    "    E_loc[:, 100:].mean(dim=1).std() / np.sqrt(E_loc.shape[0])\n",
    ").item()"
   ]
  },
  {
   "cell_type": "code",
   "execution_count": null,
   "metadata": {},
   "outputs": [],
   "source": [
    "plt.plot(blocking(E_loc[:, 100:]).numpy())"
   ]
  },
  {
   "cell_type": "code",
   "execution_count": null,
   "metadata": {},
   "outputs": [],
   "source": [
    "plt.plot(autocorr_coeff(range(50), E_loc[:, 100:]).numpy())\n",
    "plt.axhline()"
   ]
  },
  {
   "cell_type": "markdown",
   "metadata": {},
   "source": [
    "### Net WF"
   ]
  },
  {
   "cell_type": "code",
   "execution_count": null,
   "metadata": {},
   "outputs": [],
   "source": [
    "wfnet0 = WFNet(geomdb['H2'], 2, n_orbital_layers=4, ion_pot=0.7).cuda()\n",
    "n_walker = 10_000\n",
    "sampler0 = langevin_monte_carlo(\n",
    "    wfnet0, torch.randn(n_walker, 2, 3, device='cuda'), tau=0.1\n",
    ")\n",
    "rs0, _, info = samples_from(sampler0, trange(500))\n",
    "E_loc0 = batch_eval_tuple(\n",
    "    local_energy, tqdm(rs0.flatten(end_dim=1).split(50_000)), wfnet0\n",
    ")[0].view(n_walker, -1)\n",
    "info.acceptance.mean()"
   ]
  },
  {
   "cell_type": "code",
   "execution_count": null,
   "metadata": {},
   "outputs": [],
   "source": [
    "wfnet = WFNet(geomdb['H2'], 2, n_orbital_layers=4, ion_pot=0.7).cuda()\n",
    "sampler = langevin_monte_carlo(wfnet, torch.randn(1_000, 2, 3, device='cuda'), tau=0.1)\n",
    "for _ in range(50):\n",
    "    next(sampler)\n",
    "wfnet"
   ]
  },
  {
   "cell_type": "code",
   "execution_count": null,
   "metadata": {},
   "outputs": [],
   "source": [
    "fit_wfnet_multi(\n",
    "    wfnet,\n",
    "    (partial(loss_local_energy, E_ref=-1.1), loss_local_energy),\n",
    "    (torch.optim.Adam(wfnet.parameters(), lr=3e-3) for _ in range(2)),\n",
    "    partial(wfnet_fit_driver_simple, sampler, n_sampling_steps=1),\n",
    "    (\n",
    "        {'samplings': trange(200, desc='pretrain')},\n",
    "        {'samplings': trange(2000, desc='variance')},\n",
    "    ),\n",
    "    (SummaryWriter(f'runs/H2/wfnet/16/{s}') for s in ['pretrain', 'variance']),\n",
    ")"
   ]
  },
  {
   "cell_type": "code",
   "execution_count": null,
   "metadata": {},
   "outputs": [],
   "source": [
    "n_walker = 10_000\n",
    "sampler = langevin_monte_carlo(\n",
    "    wfnet, torch.randn(n_walker, 2, 3, device='cuda'), tau=0.1\n",
    ")\n",
    "rs, _, info = samples_from(sampler, trange(500))\n",
    "E_loc = batch_eval_tuple(\n",
    "    local_energy, tqdm(rs.flatten(end_dim=1).split(50_000)), wfnet\n",
    ")[0].view(n_walker, -1)\n",
    "info.acceptance.mean()"
   ]
  },
  {
   "cell_type": "code",
   "execution_count": null,
   "metadata": {},
   "outputs": [],
   "source": [
    "plt.plot(E_loc0.mean(dim=0).cpu().numpy())\n",
    "plt.plot(E_loc.mean(dim=0).cpu().numpy())\n",
    "plt.ylim(-1.2, -1)"
   ]
  },
  {
   "cell_type": "code",
   "execution_count": null,
   "metadata": {},
   "outputs": [],
   "source": [
    "plt.hist(E_loc0[:, 50:].flatten().clamp(-2, 0).cpu().numpy(), bins=100)\n",
    "plt.hist(E_loc[:, 50:].flatten().clamp(-2, 0).cpu().numpy(), bins=100)\n",
    "plt.xlim(-2, 0)"
   ]
  },
  {
   "cell_type": "code",
   "execution_count": null,
   "metadata": {},
   "outputs": [],
   "source": [
    "E_loc[:, 50:].std()"
   ]
  },
  {
   "cell_type": "code",
   "execution_count": null,
   "metadata": {},
   "outputs": [],
   "source": [
    "E_loc[:, 50:].mean().item(), (\n",
    "    E_loc[:, 50:].mean(dim=1).std() / np.sqrt(E_loc.shape[0])\n",
    ").item()"
   ]
  },
  {
   "cell_type": "code",
   "execution_count": null,
   "metadata": {},
   "outputs": [],
   "source": [
    "rs_flat = rs[:, 50:].flatten(end_dim=1)\n",
    "rs_flat0 = rs0[:, 50:].flatten(end_dim=1)"
   ]
  },
  {
   "cell_type": "code",
   "execution_count": null,
   "metadata": {},
   "outputs": [],
   "source": [
    "density = GaussianKDEstimator(rs_flat.flatten(end_dim=1), bw=0.05, weights=2)\n",
    "density0 = GaussianKDEstimator(rs_flat0.flatten(end_dim=1), bw=0.05, weights=2)\n",
    "plot_func_x(density0, [-2, 3], device='cuda')\n",
    "plot_func_x(density, [-2, 3], device='cuda')\n",
    "plot_func_x(lambda x: electron_density_of(mf_big, x), [-2, 3], is_torch=False)"
   ]
  },
  {
   "cell_type": "code",
   "execution_count": null,
   "metadata": {},
   "outputs": [],
   "source": [
    "pair = pair_correlations_from_samples(rs_flat, 1)\n",
    "pair0 = pair_correlations_from_samples(rs_flat0, 1)\n",
    "plot_func(\n",
    "    lambda r: pair0['ud'](r[:, None]) / pair['decorr'](r[:, None]),\n",
    "    (0, 5),\n",
    "    device='cuda',\n",
    ")\n",
    "plot_func(\n",
    "    lambda r: pair['ud'](r[:, None]) / pair['decorr'](r[:, None]), (0, 5), device='cuda'\n",
    ")"
   ]
  },
  {
   "cell_type": "markdown",
   "metadata": {},
   "source": [
    "### HanNet"
   ]
  },
  {
   "cell_type": "code",
   "execution_count": null,
   "metadata": {},
   "outputs": [],
   "source": [
    "wfnet0 = HanNet(\n",
    "    geomdb['H2'],\n",
    "    1,\n",
    "    1,\n",
    "    ion_pot=0.7,\n",
    "    basis_dim=32,\n",
    "    kernel_dim=32,\n",
    "    embedding_dim=32,\n",
    "    latent_dim=1,\n",
    "    n_interactions=2,\n",
    "    n_orbital_layers=2,\n",
    ").cuda()\n",
    "n_walker = 10_000\n",
    "sampler0 = langevin_monte_carlo(\n",
    "    wfnet0, torch.randn(n_walker, 2, 3, device='cuda'), tau=0.1\n",
    ")\n",
    "rs0, _, info = samples_from(sampler0, trange(500, desc='sampling'))\n",
    "E_loc0 = batch_eval_tuple(\n",
    "    local_energy, tqdm(rs0.flatten(end_dim=1).split(10_000), desc='E_loc'), wfnet0\n",
    ")[0].view(n_walker, -1)\n",
    "info.acceptance.mean()"
   ]
  },
  {
   "cell_type": "code",
   "execution_count": null,
   "metadata": {},
   "outputs": [],
   "source": [
    "wfnet = HanNet(\n",
    "    geomdb['H2'],\n",
    "    1,\n",
    "    1,\n",
    "    ion_pot=0.7,\n",
    "    basis_dim=32,\n",
    "    kernel_dim=32,\n",
    "    embedding_dim=32,\n",
    "    latent_dim=1,\n",
    "    n_interactions=2,\n",
    "    n_orbital_layers=2,\n",
    ").cuda()\n",
    "sampler = langevin_monte_carlo(wfnet, torch.randn(1_000, 2, 3, device='cuda'), tau=0.1)\n",
    "for _ in range(50):\n",
    "    next(sampler)\n",
    "wfnet"
   ]
  },
  {
   "cell_type": "code",
   "execution_count": null,
   "metadata": {},
   "outputs": [],
   "source": [
    "fit_wfnet_multi(\n",
    "    wfnet,\n",
    "    (partial(loss_local_energy, E_ref=-1.1), loss_local_energy),\n",
    "    (torch.optim.Adam(wfnet.parameters(), lr=3e-3) for _ in range(2)),\n",
    "    partial(wfnet_fit_driver_simple, sampler, n_sampling_steps=1),\n",
    "    (\n",
    "        {'samplings': trange(200, desc='pretrain')},\n",
    "        {'samplings': trange(2000, desc='variance')},\n",
    "    ),\n",
    "    (SummaryWriter(f'runs/H2/hannet/07/{s}') for s in ['pretrain', 'variance']),\n",
    ")\n"
   ]
  },
  {
   "cell_type": "code",
   "execution_count": null,
   "metadata": {},
   "outputs": [],
   "source": [
    "n_walker = 10_000\n",
    "sampler = langevin_monte_carlo(\n",
    "    wfnet, torch.randn(n_walker, 2, 3, device='cuda'), tau=0.1\n",
    ")\n",
    "rs, _, info = samples_from(sampler, trange(500))\n",
    "E_loc = batch_eval_tuple(\n",
    "    local_energy, tqdm(rs.flatten(end_dim=1).split(50_000)), wfnet\n",
    ")[0].view(n_walker, -1)\n",
    "info.acceptance.mean()"
   ]
  },
  {
   "cell_type": "code",
   "execution_count": null,
   "metadata": {},
   "outputs": [],
   "source": [
    "plt.plot(E_loc0.mean(dim=0).cpu().numpy())\n",
    "plt.plot(E_loc.mean(dim=0).cpu().numpy())\n",
    "plt.ylim(-1.2, -1)"
   ]
  },
  {
   "cell_type": "code",
   "execution_count": null,
   "metadata": {},
   "outputs": [],
   "source": [
    "plt.hist(E_loc0[:, 50:].flatten().clamp(-2, 0).cpu().numpy(), bins=100)\n",
    "plt.hist(E_loc[:, 50:].flatten().clamp(-2, 0).cpu().numpy(), bins=100)\n",
    "plt.xlim(-2, 0)"
   ]
  },
  {
   "cell_type": "code",
   "execution_count": null,
   "metadata": {},
   "outputs": [],
   "source": [
    "E_loc[:, 50:].mean().item(), (\n",
    "    E_loc[:, 50:].mean(dim=1).std() / np.sqrt(E_loc.shape[0])\n",
    ").item()"
   ]
  },
  {
   "cell_type": "code",
   "execution_count": null,
   "metadata": {},
   "outputs": [],
   "source": [
    "rs_flat = rs[:, 50:].flatten(end_dim=1)\n",
    "rs_flat0 = rs0[:, 50:].flatten(end_dim=1)"
   ]
  },
  {
   "cell_type": "code",
   "execution_count": null,
   "metadata": {},
   "outputs": [],
   "source": [
    "density = GaussianKDEstimator(rs_flat.flatten(end_dim=1), bw=0.05, weights=2)\n",
    "density0 = GaussianKDEstimator(rs_flat0.flatten(end_dim=1), bw=0.05, weights=2)\n",
    "plot_func_x(density0, [-2, 3], device='cuda')\n",
    "plot_func_x(density, [-2, 3], device='cuda')\n",
    "plot_func_x(lambda x: electron_density_of(mf_big, x), [-2, 3], is_torch=False)"
   ]
  },
  {
   "cell_type": "code",
   "execution_count": null,
   "metadata": {},
   "outputs": [],
   "source": [
    "pair = pair_correlations_from_samples(rs_flat, 1)\n",
    "pair0 = pair_correlations_from_samples(rs_flat0, 1)\n",
    "plot_func(\n",
    "    lambda r: pair0['ud'](r[:, None]) / pair['decorr'](r[:, None]),\n",
    "    (0, 5),\n",
    "    device='cuda',\n",
    ")\n",
    "plot_func(\n",
    "    lambda r: pair['ud'](r[:, None]) / pair['decorr'](r[:, None]), (0, 5), device='cuda'\n",
    ")"
   ]
  },
  {
   "cell_type": "markdown",
   "metadata": {},
   "source": [
    "## H2 triplet"
   ]
  },
  {
   "cell_type": "markdown",
   "metadata": {},
   "source": [
    "### GTO WF"
   ]
  },
  {
   "cell_type": "code",
   "execution_count": null,
   "metadata": {},
   "outputs": [],
   "source": [
    "mol = gto.M(\n",
    "    atom=geomdb['H2'].as_pyscf(),\n",
    "    unit='bohr',\n",
    "    basis='cc-pv5z',\n",
    "    charge=0,\n",
    "    spin=2,\n",
    "    cart=True,\n",
    ")\n",
    "mf_big = scf.RHF(mol)\n",
    "mf_big.kernel()"
   ]
  },
  {
   "cell_type": "code",
   "execution_count": null,
   "metadata": {},
   "outputs": [],
   "source": [
    "mol = gto.M(\n",
    "    atom=geomdb['H2'].as_pyscf(),\n",
    "    unit='bohr',\n",
    "    basis='6-311g',\n",
    "    charge=0,\n",
    "    spin=2,\n",
    "    cart=True,\n",
    ")\n",
    "mf = scf.RHF(mol)\n",
    "scf_energy = mf.kernel()\n",
    "gtowf = HFNet.from_pyscf(mf).cuda()"
   ]
  },
  {
   "cell_type": "code",
   "execution_count": null,
   "metadata": {},
   "outputs": [],
   "source": [
    "n_walker = 1_000\n",
    "sampler = langevin_monte_carlo(gtowf, torch.randn(n_walker, 2, 3).cuda(), tau=0.1)\n",
    "rs, _, info = samples_from(sampler, trange(500))\n",
    "E_loc = local_energy(rs.flatten(end_dim=1), gtowf)[0].view(n_walker, -1)\n",
    "info.acceptance.mean()"
   ]
  },
  {
   "cell_type": "code",
   "execution_count": null,
   "metadata": {},
   "outputs": [],
   "source": [
    "_ = plt.hist(E_loc[:, 100:].flatten().clamp(-2, 0).cpu().numpy(), bins=100)"
   ]
  },
  {
   "cell_type": "code",
   "execution_count": null,
   "metadata": {},
   "outputs": [],
   "source": [
    "E_loc[:, 100:].std()"
   ]
  },
  {
   "cell_type": "code",
   "execution_count": null,
   "metadata": {},
   "outputs": [],
   "source": [
    "scf_energy, E_loc[:, 100:].mean().item(), (\n",
    "    E_loc[:, 100:].mean(dim=1).std() / np.sqrt(E_loc.shape[0])\n",
    ").item()"
   ]
  },
  {
   "cell_type": "code",
   "execution_count": null,
   "metadata": {},
   "outputs": [],
   "source": [
    "plt.plot(blocking(E_loc[:, 100:]).numpy())"
   ]
  },
  {
   "cell_type": "code",
   "execution_count": null,
   "metadata": {},
   "outputs": [],
   "source": [
    "plt.plot(autocorr_coeff(range(50), E_loc[:, 100:]).numpy())\n",
    "plt.axhline()"
   ]
  },
  {
   "cell_type": "markdown",
   "metadata": {},
   "source": [
    "### HanNet"
   ]
  },
  {
   "cell_type": "code",
   "execution_count": null,
   "metadata": {},
   "outputs": [],
   "source": [
    "wfnet0 = HanNet(\n",
    "    geomdb['H2'],\n",
    "    2,\n",
    "    0,\n",
    "    ion_pot=0.7,\n",
    "    basis_dim=32,\n",
    "    kernel_dim=32,\n",
    "    embedding_dim=32,\n",
    "    latent_dim=1,\n",
    "    n_interactions=2,\n",
    "    n_orbital_layers=2,\n",
    ").cuda()\n",
    "n_walker = 10_000\n",
    "sampler0 = langevin_monte_carlo(\n",
    "    wfnet0, torch.randn(n_walker, 2, 3, device='cuda'), tau=0.1\n",
    ")\n",
    "rs0, _, info = samples_from(sampler0, trange(500, desc='sampling'))\n",
    "E_loc0 = batch_eval_tuple(\n",
    "    local_energy, tqdm(rs0.flatten(end_dim=1).split(10_000), desc='E_loc'), wfnet0\n",
    ")[0].view(n_walker, -1)\n",
    "info.acceptance.mean()"
   ]
  },
  {
   "cell_type": "code",
   "execution_count": null,
   "metadata": {},
   "outputs": [],
   "source": [
    "wfnet = HanNet(\n",
    "    geomdb['H2'],\n",
    "    2,\n",
    "    0,\n",
    "    ion_pot=0.7,\n",
    "    basis_dim=32,\n",
    "    kernel_dim=32,\n",
    "    embedding_dim=32,\n",
    "    latent_dim=1,\n",
    "    n_interactions=2,\n",
    "    n_orbital_layers=2,\n",
    ").cuda()\n",
    "sampler = langevin_monte_carlo(wfnet, torch.randn(1_000, 2, 3, device='cuda'), tau=0.1)\n",
    "for _ in range(50):\n",
    "    next(sampler)\n",
    "wfnet"
   ]
  },
  {
   "cell_type": "code",
   "execution_count": null,
   "metadata": {
    "lines_to_next_cell": 2
   },
   "outputs": [],
   "source": [
    "fit_wfnet_multi(\n",
    "    wfnet,\n",
    "    (partial(loss_local_energy, E_ref=-0.8), loss_local_energy),\n",
    "    (torch.optim.Adam(wfnet.parameters(), lr=3e-3) for _ in range(2)),\n",
    "    partial(wfnet_fit_driver_simple, sampler, n_sampling_steps=5),\n",
    "    (\n",
    "        {'samplings': trange(200, desc='samplings')},\n",
    "        {'samplings': trange(2000, desc='samplings')},\n",
    "    ),\n",
    "    (SummaryWriter(f'runs/H2t/hannet/12/{s}') for s in ['pretrain', 'variance']),\n",
    ")"
   ]
  },
  {
   "cell_type": "code",
   "execution_count": null,
   "metadata": {},
   "outputs": [],
   "source": [
    "n_walker = 10_000\n",
    "sampler = langevin_monte_carlo(\n",
    "    wfnet, torch.randn(n_walker, 2, 3, device='cuda'), tau=0.1\n",
    ")\n",
    "rs, _, info = samples_from(sampler, trange(500))\n",
    "E_loc = batch_eval_tuple(\n",
    "    local_energy, tqdm(rs.flatten(end_dim=1).split(50_000)), wfnet\n",
    ")[0].view(n_walker, -1)\n",
    "info.acceptance.mean()"
   ]
  },
  {
   "cell_type": "code",
   "execution_count": null,
   "metadata": {},
   "outputs": [],
   "source": [
    "plt.plot(E_loc0.mean(dim=0).cpu().numpy())\n",
    "plt.plot(E_loc.mean(dim=0).cpu().numpy())\n",
    "plt.ylim(-0.8, -0.5)"
   ]
  },
  {
   "cell_type": "code",
   "execution_count": null,
   "metadata": {},
   "outputs": [],
   "source": [
    "plt.hist(E_loc0[:, 50:].flatten().clamp(-2, 0).cpu().numpy(), bins=100)\n",
    "plt.hist(E_loc[:, 50:].flatten().clamp(-2, 0).cpu().numpy(), bins=100)\n",
    "plt.xlim(-2, 0)"
   ]
  },
  {
   "cell_type": "code",
   "execution_count": null,
   "metadata": {},
   "outputs": [],
   "source": [
    "E_loc[:, 50:].mean().item(), (\n",
    "    E_loc[:, 50:].mean(dim=1).std() / np.sqrt(E_loc.shape[0])\n",
    ").item()"
   ]
  },
  {
   "cell_type": "code",
   "execution_count": null,
   "metadata": {},
   "outputs": [],
   "source": [
    "rs_flat = rs[:, 50:].flatten(end_dim=1)\n",
    "rs_flat0 = rs0[:, 50:].flatten(end_dim=1)"
   ]
  },
  {
   "cell_type": "code",
   "execution_count": null,
   "metadata": {},
   "outputs": [],
   "source": [
    "density = GaussianKDEstimator(rs_flat.flatten(end_dim=1), bw=0.05, weights=2)\n",
    "density0 = GaussianKDEstimator(rs_flat0.flatten(end_dim=1), bw=0.05, weights=2)\n",
    "plot_func_x(density0, [-2, 3], device='cuda')\n",
    "plot_func_x(density, [-2, 3], device='cuda')\n",
    "plot_func_x(lambda x: electron_density_of(mf_big, x), [-2, 3], is_torch=False)"
   ]
  },
  {
   "cell_type": "code",
   "execution_count": null,
   "metadata": {},
   "outputs": [],
   "source": [
    "pair = pair_correlations_from_samples(rs_flat, 1)\n",
    "pair0 = pair_correlations_from_samples(rs_flat0, 1)\n",
    "plot_func(\n",
    "    lambda r: pair0['ud'](r[:, None]) / pair['decorr'](r[:, None]),\n",
    "    (0, 5),\n",
    "    device='cuda',\n",
    ")\n",
    "plot_func(\n",
    "    lambda r: pair['ud'](r[:, None]) / pair['decorr'](r[:, None]), (0, 5), device='cuda'\n",
    ")"
   ]
  },
  {
   "cell_type": "markdown",
   "metadata": {},
   "source": [
    "## LiH"
   ]
  },
  {
   "cell_type": "markdown",
   "metadata": {},
   "source": [
    "### GTO WF"
   ]
  },
  {
   "cell_type": "code",
   "execution_count": null,
   "metadata": {},
   "outputs": [],
   "source": [
    "mol = gto.M(\n",
    "    atom=geomdb['LiH'].as_pyscf(),\n",
    "    unit='bohr',\n",
    "    basis='6-311g',\n",
    "    charge=0,\n",
    "    spin=0,\n",
    "    cart=True,\n",
    ")\n",
    "mf = scf.RHF(mol)\n",
    "scf_energy = mf.kernel()\n",
    "gtowf = HFNet.from_pyscf(mf).cuda()\n",
    "mf.mo_energy[:2]"
   ]
  },
  {
   "cell_type": "code",
   "execution_count": null,
   "metadata": {},
   "outputs": [],
   "source": [
    "n_walker = 1_000\n",
    "sampler = langevin_monte_carlo(gtowf, torch.randn(n_walker, 4, 3).cuda(), tau=0.1)\n",
    "rs, _, info = samples_from(sampler, trange(500))\n",
    "E_loc = batch_eval_tuple(\n",
    "    local_energy, tqdm(rs.flatten(end_dim=1).split(50_000)), gtowf\n",
    ")[0].view(n_walker, -1)\n",
    "info.acceptance.mean()"
   ]
  },
  {
   "cell_type": "code",
   "execution_count": null,
   "metadata": {},
   "outputs": [],
   "source": [
    "plt.plot(E_loc.mean(dim=0).cpu().numpy())\n",
    "plt.ylim(-8.5, -7.5)"
   ]
  },
  {
   "cell_type": "code",
   "execution_count": null,
   "metadata": {},
   "outputs": [],
   "source": [
    "_ = plt.hist(E_loc[:, 100:].flatten().clamp(-11, -3).cpu().numpy(), bins=100)"
   ]
  },
  {
   "cell_type": "code",
   "execution_count": null,
   "metadata": {},
   "outputs": [],
   "source": [
    "E_loc[:, 100:].std()"
   ]
  },
  {
   "cell_type": "code",
   "execution_count": null,
   "metadata": {},
   "outputs": [],
   "source": [
    "scf_energy, E_loc[:, 100:].mean().item(), (\n",
    "    E_loc[:, 100:].mean(dim=1).std() / np.sqrt(E_loc.shape[0])\n",
    ").item()"
   ]
  },
  {
   "cell_type": "code",
   "execution_count": null,
   "metadata": {},
   "outputs": [],
   "source": [
    "plt.plot(blocking(E_loc[:, 100:]).numpy())"
   ]
  },
  {
   "cell_type": "code",
   "execution_count": null,
   "metadata": {},
   "outputs": [],
   "source": [
    "plt.plot(autocorr_coeff(range(50), E_loc[:, 100:]).numpy())\n",
    "plt.axhline()"
   ]
  },
  {
   "cell_type": "code",
   "execution_count": null,
   "metadata": {},
   "outputs": [],
   "source": [
    "rs_hf_flat = rs[:, 50:].flatten(end_dim=1)"
   ]
  },
  {
   "cell_type": "code",
   "execution_count": null,
   "metadata": {},
   "outputs": [],
   "source": [
    "density = GaussianKDEstimator(rs_hf_flat.flatten(end_dim=1), bw=0.05, weights=4)\n",
    "plot_func_x(density, [-2, 5], device='cuda')\n",
    "plot_func_x(gtowf.density, [-2, 5], device='cuda')\n",
    "plt.gca().set_yscale('log')"
   ]
  },
  {
   "cell_type": "code",
   "execution_count": null,
   "metadata": {},
   "outputs": [],
   "source": [
    "_ = plot_func_x(gtowf.orbitals, [-2, 5], device='cuda')"
   ]
  },
  {
   "cell_type": "code",
   "execution_count": null,
   "metadata": {},
   "outputs": [],
   "source": [
    "pair = pair_correlations_from_samples(rs_hf_flat, 2)\n",
    "plot_func(\n",
    "    lambda r: pair['uu'](r[:, None]) / pair['decorr'](r[:, None]), (0, 8), device='cuda'\n",
    ")\n",
    "plot_func(\n",
    "    lambda r: pair['dd'](r[:, None]) / pair['decorr'](r[:, None]), (0, 8), device='cuda'\n",
    ")\n",
    "plot_func(\n",
    "    lambda r: pair['ud'](r[:, None]) / pair['decorr'](r[:, None]), (0, 8), device='cuda'\n",
    ")"
   ]
  },
  {
   "cell_type": "code",
   "execution_count": null,
   "metadata": {},
   "outputs": [],
   "source": [
    "fig, axes = plt.subplots(1, 3, figsize=(12, 4))\n",
    "axes[0].hist(rs_hf_flat[..., 0].flatten().cpu().numpy(), bins=100, range=[-2, 5])\n",
    "for idx, ax in zip([(0, 2), (0, 1)], axes[1:]):\n",
    "    ax.hist2d(\n",
    "        *rs_hf_flat[:, idx, 0].cpu().numpy().T, bins=100, range=[[-2, 5], [-2, 5]]\n",
    "    )\n",
    "    ax.set_aspect(1)"
   ]
  },
  {
   "cell_type": "markdown",
   "metadata": {},
   "source": [
    "### GTO WF training"
   ]
  },
  {
   "cell_type": "code",
   "execution_count": null,
   "metadata": {},
   "outputs": [],
   "source": [
    "mol = gto.M(\n",
    "    atom=geomdb['LiH'].as_pyscf(),\n",
    "    unit='bohr',\n",
    "    basis='6-311g',\n",
    "    charge=0,\n",
    "    spin=0,\n",
    "    cart=True,\n",
    ")\n",
    "mf = scf.RHF(mol)\n",
    "mf.kernel()\n",
    "wfnet = HFNet(geomdb['LiH'], 2, 2, GTOBasis.from_pyscf(mol)).cuda()"
   ]
  },
  {
   "cell_type": "code",
   "execution_count": null,
   "metadata": {},
   "outputs": [],
   "source": [
    "sampler = langevin_monte_carlo(wfnet, torch.randn(1_000, 4, 3, device='cuda'), tau=0.1)\n",
    "for _ in range(200):\n",
    "    next(sampler)"
   ]
  },
  {
   "cell_type": "code",
   "execution_count": null,
   "metadata": {},
   "outputs": [],
   "source": [
    "debug = DebugContainer()\n",
    "with SummaryWriter('runs/LiH/gtowf/18/pretrain') as writer:\n",
    "    fit_wfnet(\n",
    "        wfnet,\n",
    "        partial(loss_local_energy, E_ref=-8),\n",
    "        torch.optim.Adam(wfnet.parameters(), lr=3e-3),\n",
    "        wfnet_fit_driver_simple(sampler, n_sampling_steps=1, samplings=trange(2000)),\n",
    "        writer=writer,\n",
    "        debug=debug,\n",
    "    )"
   ]
  },
  {
   "cell_type": "code",
   "execution_count": null,
   "metadata": {},
   "outputs": [],
   "source": [
    "plot_func_x(wfnet.orbitals, [-2, 5], device='cuda')"
   ]
  },
  {
   "cell_type": "code",
   "execution_count": null,
   "metadata": {},
   "outputs": [],
   "source": [
    "n_walker = 1_000\n",
    "sampler = langevin_monte_carlo(wfnet, torch.randn(n_walker, 4, 3).cuda(), tau=0.1)\n",
    "rs, _, info = samples_from(sampler, trange(500))\n",
    "E_loc = batch_eval_tuple(\n",
    "    local_energy, tqdm(rs.flatten(end_dim=1).split(50_000)), wfnet\n",
    ")[0].view(n_walker, -1)\n",
    "info.acceptance.mean()"
   ]
  },
  {
   "cell_type": "code",
   "execution_count": null,
   "metadata": {},
   "outputs": [],
   "source": [
    "E_loc[:, 100:].mean().item(), (\n",
    "    E_loc[:, 100:].mean(dim=1).std() / np.sqrt(E_loc.shape[0])\n",
    ").item()"
   ]
  }
 ],
 "metadata": {
  "kernelspec": {
   "display_name": "dl-qmc",
   "language": "python",
   "name": "dl-qmc"
  },
  "language_info": {
   "codemirror_mode": {
    "name": "ipython",
    "version": 3
   },
   "file_extension": ".py",
   "mimetype": "text/x-python",
   "name": "python",
   "nbconvert_exporter": "python",
   "pygments_lexer": "ipython3",
   "version": "3.7.2"
  },
  "toc": {
   "base_numbering": 1,
   "nav_menu": {},
   "number_sections": true,
   "sideBar": false,
   "skip_h1_title": false,
   "title_cell": "Table of Contents",
   "title_sidebar": "Contents",
   "toc_cell": false,
   "toc_position": {
    "height": "308px",
    "left": "943px",
    "top": "98px",
    "width": "222px"
   },
   "toc_section_display": true,
   "toc_window_display": true
  },
  "varInspector": {
   "cols": {
    "lenName": 16,
    "lenType": 16,
    "lenVar": 40
   },
   "kernels_config": {
    "python": {
     "delete_cmd_postfix": "",
     "delete_cmd_prefix": "del ",
     "library": "var_list.py",
     "varRefreshCmd": "print(var_dic_list())"
    },
    "r": {
     "delete_cmd_postfix": ") ",
     "delete_cmd_prefix": "rm(",
     "library": "var_list.r",
     "varRefreshCmd": "cat(var_dic_list()) "
    }
   },
   "position": {
    "height": "687px",
    "left": "593px",
    "right": "20px",
    "top": "120px",
    "width": "587px"
   },
   "types_to_exclude": [
    "module",
    "function",
    "builtin_function_or_method",
    "instance",
    "_Feature"
   ],
   "window_display": false
  }
 },
 "nbformat": 4,
 "nbformat_minor": 2
}
